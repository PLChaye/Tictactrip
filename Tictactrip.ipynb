{
 "cells": [
  {
   "cell_type": "code",
   "execution_count": 150,
   "metadata": {},
   "outputs": [
    {
     "name": "stdout",
     "output_type": "stream",
     "text": [
      "Requirement already satisfied: pandas in c:\\users\\admin\\appdata\\local\\programs\\python\\python37\\lib\\site-packages (1.0.3)\n",
      "Requirement already satisfied: numpy>=1.13.3 in c:\\users\\admin\\appdata\\local\\programs\\python\\python37\\lib\\site-packages (from pandas) (1.18.4)\n",
      "Requirement already satisfied: python-dateutil>=2.6.1 in c:\\users\\admin\\appdata\\local\\programs\\python\\python37\\lib\\site-packages (from pandas) (2.8.1)\n",
      "Requirement already satisfied: pytz>=2017.2 in c:\\users\\admin\\appdata\\local\\programs\\python\\python37\\lib\\site-packages (from pandas) (2019.3)\n",
      "Requirement already satisfied: six>=1.5 in c:\\users\\admin\\appdata\\local\\programs\\python\\python37\\lib\\site-packages (from python-dateutil>=2.6.1->pandas) (1.13.0)\n"
     ]
    }
   ],
   "source": [
    "# Installing pandas\n",
    "# https://jakevdp.github.io/blog/2017/12/05/installing-python-packages-from-jupyter/\n",
    "\n",
    "import sys\n",
    "!{sys.executable} -m pip install pandas"
   ]
  },
  {
   "cell_type": "code",
   "execution_count": 195,
   "metadata": {},
   "outputs": [],
   "source": [
    "import pandas as pd\n",
    "\n",
    "# Importing CSVs\n",
    "\n",
    "tickets_df = pd.read_csv('./csv/ticket_data.csv', comment='#')\n",
    "cities_df = pd.read_csv('./csv/cities.csv', comment='#')\n",
    "providers_df = pd.read_csv('./csv/providers.csv', comment='#')\n",
    "stations_df = pd.read_csv('./csv/stations.csv', comment='#')"
   ]
  },
  {
   "cell_type": "code",
   "execution_count": 196,
   "metadata": {},
   "outputs": [],
   "source": [
    "# Testing pandas\n",
    "# Using https://pandas.pydata.org/pandas-docs/stable/user_guide/\n",
    "\n",
    "\n",
    "# Function returning a dataframe with all the trips between these cities\n",
    "\n",
    "def getTrips(tickets_df, origin_city = 628, destination_city = 453):\n",
    "    \n",
    "    # Selecting the trips between origin and destination\n",
    "    \n",
    "    selected_trips_df = tickets_df.loc[(tickets_df['o_city'] == origin_city) & (tickets_df['d_city'] == destination_city)]\n",
    "    \n",
    "    return selected_trips_df;"
   ]
  },
  {
   "cell_type": "code",
   "execution_count": 207,
   "metadata": {},
   "outputs": [],
   "source": [
    "# Getting the minimum and the maximum price of the selected trip and the mean of the prices\n",
    "\n",
    "def getPricesBounds(trips_df):\n",
    "    minPrice = (trips_df['price_in_cents'].min()) / 100\n",
    "    avgPrice = (trips_df['price_in_cents'].mean()) / 100\n",
    "    maxPrice = (trips_df['price_in_cents'].max()) / 100\n",
    "    \n",
    "    return minPrice, avgPrice, maxPrice;"
   ]
  },
  {
   "cell_type": "code",
   "execution_count": 154,
   "metadata": {},
   "outputs": [
    {
     "name": "stdout",
     "output_type": "stream",
     "text": [
      "Requirement already satisfied: datetime in c:\\users\\admin\\appdata\\local\\programs\\python\\python37\\lib\\site-packages (4.3)\n",
      "Requirement already satisfied: zope.interface in c:\\users\\admin\\appdata\\local\\programs\\python\\python37\\lib\\site-packages (from datetime) (5.1.0)\n",
      "Requirement already satisfied: pytz in c:\\users\\admin\\appdata\\local\\programs\\python\\python37\\lib\\site-packages (from datetime) (2019.3)\n",
      "Requirement already satisfied: setuptools in c:\\users\\admin\\appdata\\local\\programs\\python\\python37\\lib\\site-packages (from zope.interface->datetime) (40.8.0)\n"
     ]
    }
   ],
   "source": [
    "# Installing datetime\n",
    "\n",
    "!{sys.executable} -m pip install datetime"
   ]
  },
  {
   "cell_type": "code",
   "execution_count": 250,
   "metadata": {},
   "outputs": [],
   "source": [
    "import datetime\n",
    "\n",
    "# https://pandas.pydata.org/pandas-docs/stable/user_guide/timeseries.html\n",
    "# https://pandas.pydata.org/pandas-docs/stable/user_guide/timedeltas.html\n",
    "\n",
    "# Adds a duration column and format the timestamps to datetime\n",
    "\n",
    "def addDuration(trips_df):\n",
    "    \n",
    "    # Reformatting the columns representing timestamps\n",
    "    formatted_trips_df = trips_df.loc[:, ['departure_ts', 'arrival_ts']].apply(pd.to_datetime)\n",
    "    \n",
    "    # Maybe add later the formatted columns back into the df\n",
    "    \n",
    "    # Create a Serie containing the durations\n",
    "    duration_s = formatted_trips_df.loc[:, 'arrival_ts'] - formatted_trips_df.loc[:, 'departure_ts']\n",
    "    duration_s.name = 'duration_tdelt'\n",
    "    \n",
    "    # Concatenate the durations to the dataframe\n",
    "    trips_df = pd.concat([trips_df, duration_s], axis = 1)\n",
    "    \n",
    "    return trips_df;"
   ]
  },
  {
   "cell_type": "code",
   "execution_count": 247,
   "metadata": {},
   "outputs": [],
   "source": [
    "def getDurationBounds(trips_df):\n",
    "    \n",
    "    minDuration = min(trips_df.loc['duration_tdelt'])\n",
    "    #meanDuration = trips_df['duration_ts'].mean()\n",
    "    #maxDuration = trips_df['duration_ts'].max()\n",
    "    \n",
    "    #print(minDuration)\n",
    "    \n",
    "    return minDuration;#, meanDuration, maxDuration;"
   ]
  },
  {
   "cell_type": "code",
   "execution_count": 256,
   "metadata": {},
   "outputs": [
    {
     "name": "stdout",
     "output_type": "stream",
     "text": [
      "For the trip from town A to town B, the prices are going from 10.00€ to 134.50€ and the average price is 20.31€\n",
      "id                           int64\n",
      "company                      int64\n",
      "o_station                  float64\n",
      "d_station                  float64\n",
      "departure_ts                object\n",
      "arrival_ts                  object\n",
      "price_in_cents               int64\n",
      "search_ts                   object\n",
      "middle_stations             object\n",
      "other_companies             object\n",
      "o_city                       int64\n",
      "d_city                       int64\n",
      "duration_tdelt     timedelta64[ns]\n",
      "dtype: object\n"
     ]
    }
   ],
   "source": [
    "# Select a trip from a given city to another\n",
    "myTrip = getTrips(tickets_df, 628, 453)\n",
    "\n",
    "# Get price overview\n",
    "minPrice, avgPrice, maxPrice = getPricesBounds(myTrip)\n",
    "print(\"For the trip from town A to town B, the prices are going from {:.2f}€ to {:.2f}€ and the average price is {:.2f}€\".format(minPrice, maxPrice, avgPrice))\n",
    "\n",
    "# Add a duration column for each trip\n",
    "myTrip = addDuration(myTrip)\n",
    "\n",
    "print(myTrip.dtypes)\n",
    "\n",
    "# Get duration overview\n",
    "#minDuration, avgDuration, maxDuration = getDurationBounds(myTrip)"
   ]
  },
  {
   "cell_type": "code",
   "execution_count": null,
   "metadata": {},
   "outputs": [],
   "source": []
  }
 ],
 "metadata": {
  "kernelspec": {
   "display_name": "Python 3",
   "language": "python",
   "name": "python3"
  },
  "language_info": {
   "codemirror_mode": {
    "name": "ipython",
    "version": 3
   },
   "file_extension": ".py",
   "mimetype": "text/x-python",
   "name": "python",
   "nbconvert_exporter": "python",
   "pygments_lexer": "ipython3",
   "version": "3.7.4"
  }
 },
 "nbformat": 4,
 "nbformat_minor": 4
}
