{
 "cells": [
  {
   "cell_type": "markdown",
   "metadata": {},
   "source": [
    "# Exercice de data crunching\n",
    " "
   ]
  },
  {
   "cell_type": "markdown",
   "metadata": {},
   "source": [
    "## Installation des librairies nécessaires\n",
    "\n",
    "- pandas\n",
    "- datetime\n",
    "\n",
    "\n",
    "**Documentation:**\n",
    "- Tutoriel utilisé: https://jakevdp.github.io/blog/2017/12/05/installing-python-packages-from-jupyter/"
   ]
  },
  {
   "cell_type": "code",
   "execution_count": 2,
   "metadata": {},
   "outputs": [
    {
     "name": "stdout",
     "output_type": "stream",
     "text": [
      "Requirement already satisfied: pandas in c:\\users\\admin\\appdata\\local\\programs\\python\\python37\\lib\\site-packages (1.0.3)\n",
      "Requirement already satisfied: numpy>=1.13.3 in c:\\users\\admin\\appdata\\local\\programs\\python\\python37\\lib\\site-packages (from pandas) (1.18.4)\n",
      "Requirement already satisfied: python-dateutil>=2.6.1 in c:\\users\\admin\\appdata\\local\\programs\\python\\python37\\lib\\site-packages (from pandas) (2.8.1)\n",
      "Requirement already satisfied: pytz>=2017.2 in c:\\users\\admin\\appdata\\local\\programs\\python\\python37\\lib\\site-packages (from pandas) (2019.3)\n",
      "Requirement already satisfied: six>=1.5 in c:\\users\\admin\\appdata\\local\\programs\\python\\python37\\lib\\site-packages (from python-dateutil>=2.6.1->pandas) (1.13.0)\n",
      "Requirement already satisfied: datetime in c:\\users\\admin\\appdata\\local\\programs\\python\\python37\\lib\\site-packages (4.3)\n",
      "Requirement already satisfied: pytz in c:\\users\\admin\\appdata\\local\\programs\\python\\python37\\lib\\site-packages (from datetime) (2019.3)\n",
      "Requirement already satisfied: zope.interface in c:\\users\\admin\\appdata\\local\\programs\\python\\python37\\lib\\site-packages (from datetime) (5.1.0)\n",
      "Requirement already satisfied: setuptools in c:\\users\\admin\\appdata\\local\\programs\\python\\python37\\lib\\site-packages (from zope.interface->datetime) (40.8.0)\n",
      "Requirement already satisfied: numpy in c:\\users\\admin\\appdata\\local\\programs\\python\\python37\\lib\\site-packages (1.18.4)\n",
      "Requirement already satisfied: geopy in c:\\users\\admin\\appdata\\local\\programs\\python\\python37\\lib\\site-packages (1.22.0)\n",
      "Requirement already satisfied: geographiclib<2,>=1.49 in c:\\users\\admin\\appdata\\local\\programs\\python\\python37\\lib\\site-packages (from geopy) (1.50)\n"
     ]
    }
   ],
   "source": [
    "import sys\n",
    "\n",
    "# Installing pandas\n",
    "!{sys.executable} -m pip install pandas\n",
    "\n",
    "# Installing datetime\n",
    "!{sys.executable} -m pip install datetime\n",
    "\n",
    "# Installing numpy\n",
    "!{sys.executable} -m pip install numpy\n",
    "\n",
    "# Installing geopy\n",
    "!{sys.executable} -m pip install geopy"
   ]
  },
  {
   "cell_type": "markdown",
   "metadata": {},
   "source": [
    "## Importation des datasets\n",
    "\n"
   ]
  },
  {
   "cell_type": "code",
   "execution_count": 3,
   "metadata": {},
   "outputs": [],
   "source": [
    "import pandas as pd\n",
    "import datetime\n",
    "import numpy as np\n",
    "from geopy.distance import geodesic\n",
    "\n",
    "# Importing CSVs\n",
    "tickets_df = pd.read_csv('./csv/ticket_data.csv', comment='#')\n",
    "cities_df = pd.read_csv('./csv/cities.csv', comment='#')\n",
    "providers_df = pd.read_csv('./csv/providers.csv', comment='#')\n",
    "stations_df = pd.read_csv('./csv/stations.csv', comment='#')"
   ]
  },
  {
   "cell_type": "markdown",
   "metadata": {},
   "source": [
    "# PARTIE 1 : Stats d'un trajet choisi par l'utilisateur"
   ]
  },
  {
   "cell_type": "markdown",
   "metadata": {},
   "source": [
    "## A. Sélection d'un trajet\n",
    "\n",
    "**Documentation:**\n",
    "- Doc pandas: https://pandas.pydata.org/pandas-docs/stable/user_guide/  \n",
    "- Exemple supplémentaire StackOverflow: https://stackoverflow.com/questions/17071871/how-to-select-rows-from-a-dataframe-based-on-column-values"
   ]
  },
  {
   "cell_type": "markdown",
   "metadata": {},
   "source": [
    "### Saisie des villes de départ et d'arrivée"
   ]
  },
  {
   "cell_type": "code",
   "execution_count": 4,
   "metadata": {},
   "outputs": [],
   "source": [
    "# Get the trip origin and destination input\n",
    "def getTripEndpoints():\n",
    "    \n",
    "    destination_city = input(\"You want to go to : \")\n",
    "    origin_city = input(\"from : \")\n",
    "    \n",
    "    return getCityId(origin_city), getCityId(destination_city);"
   ]
  },
  {
   "cell_type": "markdown",
   "metadata": {},
   "source": [
    "### Récupération de l'id d'une ville"
   ]
  },
  {
   "cell_type": "code",
   "execution_count": 5,
   "metadata": {},
   "outputs": [],
   "source": [
    "# Get the id of a given city\n",
    "def getCityId(city):\n",
    "    \n",
    "    # The cities are in lowercase in the column we're searching\n",
    "    city = city.lower()\n",
    "    \n",
    "    # If the city isn't in the dataframe\n",
    "    if(cities_df.loc[cities_df['unique_name'].isin([city])].empty):\n",
    "        \n",
    "        # Not very clean exit\n",
    "        print('We couln\\'t find this city')\n",
    "        sys.exit(0)\n",
    "    \n",
    "    # Find the correct row in the cities dataframe\n",
    "    else:\n",
    "        \n",
    "        # Get the id\n",
    "        cityId = cities_df.loc[cities_df['unique_name'] == city, 'id'].item()\n",
    "    \n",
    "    return cityId;"
   ]
  },
  {
   "cell_type": "markdown",
   "metadata": {},
   "source": [
    "### Sélection de tous les tickets pour un trajet"
   ]
  },
  {
   "cell_type": "code",
   "execution_count": 6,
   "metadata": {},
   "outputs": [],
   "source": [
    "# Function returning a dataframe with all the trips between these cities\n",
    "def getTrips(tickets_df, originCity = 628, destinationCity = 453):\n",
    "    \n",
    "    # Selecting the trips between origin and destination\n",
    "    selected_trips_df = tickets_df.loc[(tickets_df['o_city'] == originCity) & (tickets_df['d_city'] == destinationCity)]\n",
    "    \n",
    "    return selected_trips_df;"
   ]
  },
  {
   "cell_type": "markdown",
   "metadata": {},
   "source": [
    "## B. Prix des tickets"
   ]
  },
  {
   "cell_type": "code",
   "execution_count": 7,
   "metadata": {},
   "outputs": [],
   "source": [
    "# Getting the minimum and the maximum price of the selected trip and the mean of the prices\n",
    "\n",
    "def getPricesBounds(trips_df):\n",
    "    minPrice = (trips_df['price_in_cents'].min()) / 100\n",
    "    avgPrice = (trips_df['price_in_cents'].mean()) / 100\n",
    "    maxPrice = (trips_df['price_in_cents'].max()) / 100\n",
    "    \n",
    "    priceBounds = pd.Series([minPrice, avgPrice, maxPrice], index=list(['minimum', 'average', 'maximum']))\n",
    "    \n",
    "    return priceBounds;"
   ]
  },
  {
   "cell_type": "markdown",
   "metadata": {},
   "source": [
    "## C. Durées des trajets\n",
    "\n",
    "### Ajout d'une colonne 'durée du trajet'\n",
    "\n",
    "**Documentation:**\n",
    "- https://pandas.pydata.org/pandas-docs/stable/user_guide/timeseries.html\n",
    "- https://pandas.pydata.org/pandas-docs/stable/user_guide/timedeltas.html\n",
    "\n",
    "**Problème rencontré:**  \n",
    "- *SettingWithCopyWarning*\n",
    "\n",
    "    Solutions trouvées: \n",
    "    - https://stackoverflow.com/questions/20625582/how-to-deal-with-settingwithcopywarning-in-pandas\n",
    "    - https://stackoverflow.com/questions/36846060/how-to-replace-an-entire-column-on-pandas-dataframe"
   ]
  },
  {
   "cell_type": "code",
   "execution_count": 8,
   "metadata": {},
   "outputs": [],
   "source": [
    "# Adds a duration column and format the timestamps to datetime\n",
    "def addDuration(trips_df):\n",
    "    \n",
    "    # Changing departure and arrival to datetime\n",
    "    formatted_trips_df = trips_df.loc[:, ['departure_ts', 'arrival_ts']].apply(pd.to_datetime)\n",
    "    \n",
    "    # Adding all the other columns\n",
    "    formatted_trips_df = trips_df.assign(departure_ts = formatted_trips_df['departure_ts'], \n",
    "                                         arrival_ts = formatted_trips_df['arrival_ts'])\n",
    "    \n",
    "    \n",
    "    # Create a Serie containing the durations between departure and arrival\n",
    "    duration_s = formatted_trips_df.loc[:, 'arrival_ts'] - formatted_trips_df.loc[:, 'departure_ts']\n",
    "    duration_s.name = 'duration_tdelt'\n",
    "    \n",
    "    # Adding the durations to the dataframe\n",
    "    formatted_trips_df = pd.concat([formatted_trips_df, duration_s], axis = 1)\n",
    "    \n",
    "    return formatted_trips_df;"
   ]
  },
  {
   "cell_type": "markdown",
   "metadata": {},
   "source": [
    "### Calcul des durées min, max et moyennes\n",
    "\n",
    "**Documentation:**  \n",
    "- Convertir un timedelta en secondes: https://pandas.pydata.org/pandas-docs/stable/user_guide/timedeltas.html#conversions"
   ]
  },
  {
   "cell_type": "code",
   "execution_count": 9,
   "metadata": {},
   "outputs": [],
   "source": [
    "def getDurationBounds(trips_df):\n",
    "    \n",
    "    # Min and max duration\n",
    "    minDuration = min(trips_df.loc[:, 'duration_tdelt'])\n",
    "    maxDuration = max(trips_df.loc[:, 'duration_tdelt'])\n",
    "    \n",
    "    # Converting the durations in seconds\n",
    "    durationInSecs = trips_df.loc[:, 'duration_tdelt'].astype('timedelta64[s]')\n",
    "    \n",
    "    # Computing the mean and returning it in timedelta\n",
    "    avgDuration = durationInSecs.mean()\n",
    "    avgDuration = pd.to_timedelta(avgDuration, 'seconds')\n",
    "    \n",
    "    durationBounds_s = pd.Series([minDuration, avgDuration, maxDuration], index=list(['minimum', 'average', 'maximum']))\n",
    "    \n",
    "    return durationBounds_s;"
   ]
  },
  {
   "cell_type": "markdown",
   "metadata": {},
   "source": [
    "## D. Affichage\n",
    "\n",
    "### Affichage d'un timestamp au format HH:mm   \n",
    "\n",
    "**Documentation:**  \n",
    "- Formater un timedelta: https://stackoverflow.com/questions/538666/format-timedelta-to-string"
   ]
  },
  {
   "cell_type": "code",
   "execution_count": 10,
   "metadata": {},
   "outputs": [],
   "source": [
    "# Display of a timedelta\n",
    "def timedeltaDisplay(timedelta):\n",
    "    \n",
    "    # Get the total # of seconds\n",
    "    timedeltaSeconds = timedelta.seconds\n",
    "    \n",
    "    # Translate it in hours and minutes\n",
    "    hours, remainder = divmod(timedeltaSeconds,3600)\n",
    "    minutes = remainder // 60\n",
    "    \n",
    "    # Build the string\n",
    "    display = '{:02d}h{:02d}mn'.format(hours, minutes)\n",
    "    return display;"
   ]
  },
  {
   "cell_type": "markdown",
   "metadata": {},
   "source": [
    "### Récupération du nom complet d'une ville"
   ]
  },
  {
   "cell_type": "code",
   "execution_count": 11,
   "metadata": {},
   "outputs": [],
   "source": [
    "# Get the city, its region and its country \n",
    "def getCityLocalName(city_id):\n",
    "    \n",
    "    # Search the city local name using id\n",
    "    cityLocalName = cities_df.loc[cities_df['id'] == city_id, 'local_name'].item()\n",
    "    \n",
    "    # Split the city, the region and the country    \n",
    "    cityLocation = pd.Series(cityLocalName.split(', '), index=list(['city', 'region', 'country']))\n",
    "    \n",
    "    return cityLocation;"
   ]
  },
  {
   "cell_type": "markdown",
   "metadata": {},
   "source": [
    "### Affichage des résultats\n",
    "\n",
    "**Documentation:**  \n",
    "- Affichage des durées moyennes: https://stackoverflow.com/questions/538666/format-timedelta-to-string"
   ]
  },
  {
   "cell_type": "code",
   "execution_count": 12,
   "metadata": {},
   "outputs": [],
   "source": [
    "# Display the stats of the trips available\n",
    "def displayTripStats(origin_city_id, destination_city_id, priceBounds, durationBounds):\n",
    "    \n",
    "    # Get the cities full names\n",
    "    origin = getCityLocalName(origin_city_id)\n",
    "    destination = getCityLocalName(destination_city_id)\n",
    "    \n",
    "    # Print trip endpoints\n",
    "    print(\"\\n\")\n",
    "    print(\"Trip from {} ({}) to {} ({}):\\n\"\n",
    "          .format(origin.city, origin.region, destination.city, destination.region))\n",
    "         \n",
    "    # Print prices available\n",
    "    print(\"Prices : {:.2f}€ >>> {:.2f}€. Average: {:.2f}€\"\n",
    "          .format(priceBounds.minimum, priceBounds.maximum, priceBounds.average))\n",
    "    \n",
    "    # Print trip durations\n",
    "    print(\"Duration : {} >>> {}. Average: {}\"\n",
    "          .format(\n",
    "              timedeltaDisplay(durationBounds.minimum), \n",
    "              timedeltaDisplay(durationBounds.maximum), \n",
    "              timedeltaDisplay(durationBounds.average)))\n",
    "    \n",
    "    return;"
   ]
  },
  {
   "cell_type": "markdown",
   "metadata": {},
   "source": [
    "## E. Main\n",
    "\n",
    "Reste à gérer le cas où il n'y a aucun trajet entre les deux villes sélectionnées"
   ]
  },
  {
   "cell_type": "code",
   "execution_count": 13,
   "metadata": {},
   "outputs": [
    {
     "name": "stdout",
     "output_type": "stream",
     "text": [
      "You want to go to : lille\n",
      "from : paris\n",
      "\n",
      "\n",
      "Trip from Paris (Île-de-France) to Lille (Hauts-de-France):\n",
      "\n",
      "Prices : 10.00€ >>> 134.50€. Average: 20.31€\n",
      "Duration : 01h08mn >>> 13h20mn. Average: 03h38mn\n"
     ]
    }
   ],
   "source": [
    "# Get the ids of the destination and the origin city entered \n",
    "originCityId, destinationCityId = getTripEndpoints()\n",
    "\n",
    "# Select the trips available between the given cities\n",
    "myTrip_df = getTrips(tickets_df, originCityId, destinationCityId)\n",
    "\n",
    "# Get price overview\n",
    "priceBounds_s = getPricesBounds(myTrip_df)\n",
    "\n",
    "# Add a duration column for each trip\n",
    "myTrip_df = addDuration(myTrip_df)\n",
    "\n",
    "# Get duration overview\n",
    "durationBounds_s = getDurationBounds(myTrip_df)\n",
    "\n",
    "\n",
    "# Display the results\n",
    "displayTripStats(originCityId, destinationCityId, priceBounds_s, durationBounds_s)"
   ]
  },
  {
   "cell_type": "markdown",
   "metadata": {},
   "source": [
    "# PARTIE 2 : Prix selon la distance et le moyen de transport\n",
    "\n",
    "## A. Sélection de trajets selon le moyen de transport\n",
    "\n",
    "### Récupérer les trajets utilisant le même moyen de transport\n",
    "\n",
    "**Problème rencontré:**\n",
    "\n",
    "Je ne sais pas lire, donc je perds du temps\n",
    "\n",
    "**Solution:**\n",
    "\n",
    "Relire"
   ]
  },
  {
   "cell_type": "code",
   "execution_count": 14,
   "metadata": {},
   "outputs": [],
   "source": [
    "def getByTransportType(trips_df, transportType):\n",
    "\n",
    "    # Get all the ids of providers matching the selected transport type\n",
    "    companyByTransportType = providers_df.loc[providers_df['transport_type'] == transportType, 'id']\n",
    "\n",
    "    # Select the trips from the selected providers\n",
    "    selectedTrips_df = trips_df.loc[trips_df['company'].isin(companyByTransportType)]\n",
    "    \n",
    "    return selectedTrips_df;"
   ]
  },
  {
   "cell_type": "markdown",
   "metadata": {},
   "source": [
    "### Découper un dataframe selon les moyens de transports"
   ]
  },
  {
   "cell_type": "code",
   "execution_count": 15,
   "metadata": {},
   "outputs": [],
   "source": [
    "# Returns 3 separated dataframes for train, bus and carpooling trip tickets\n",
    "def separateTransportTypes(trips_df):\n",
    "    \n",
    "    trainTrips_df = getByTransportType(trips_df, 'train')\n",
    "    busTrips_df = getByTransportType(trips_df, 'bus')\n",
    "    carpoolingTrips_df = getByTransportType(trips_df, 'carpooling')\n",
    "    \n",
    "    return trainTrips_df, busTrips_df, carpoolingTrips_df;"
   ]
  },
  {
   "cell_type": "markdown",
   "metadata": {},
   "source": [
    "### Comparer les prix selon le moyen de transport"
   ]
  },
  {
   "cell_type": "code",
   "execution_count": 16,
   "metadata": {},
   "outputs": [],
   "source": [
    "# Returns the average price for each mean of transport\n",
    "def comparePrices(trainTrip_df, busTrip_df, carpoolingTrip_df):\n",
    "    \n",
    "    # Computes the average\n",
    "    avgTrainPrice = trainTrip_df.price_in_cents.mean() / 100\n",
    "    avgBusPrice = busTrip_df.price_in_cents.mean() / 100\n",
    "    avgCarpoolingPrice = carpoolingTrip_df.price_in_cents.mean() / 100\n",
    "    \n",
    "    # Gather the average for each way of transportation\n",
    "    avgPrices = pd.Series([avgTrainPrice, avgBusPrice, avgCarpoolingPrice], index=list(['train', 'bus', 'carpooling']))\n",
    "    \n",
    "    return avgPrices;"
   ]
  },
  {
   "cell_type": "markdown",
   "metadata": {},
   "source": [
    "## B. Sélection de trajets selon la distance\n",
    "\n",
    "### Ajout d'une colonne distance\n",
    "\n",
    "**Documentation:**\n",
    "\n",
    "- geopy: https://pypi.org/project/geopy/"
   ]
  },
  {
   "cell_type": "code",
   "execution_count": 283,
   "metadata": {},
   "outputs": [],
   "source": [
    "# Add a distance column for each ticket\n",
    "def addDistance(trips_df):\n",
    "\n",
    "    # Extracting only the geographic info from the tickets dataframe and keep a single copy of each trip\n",
    "    distances_df = trips_df.loc[:,['o_station', 'd_station', 'middle_stations', 'o_city', 'd_city']]\n",
    "    distances_df = distances_df.drop_duplicates()\n",
    "\n",
    "    # Computing the distance for each unique trip\n",
    "    distances_df['distance'] = distances_df.apply(lambda df: computeDistance(df['o_city'], \n",
    "                                                                             df['d_city'], \n",
    "                                                                             df['o_station'], \n",
    "                                                                             df['d_station'],\n",
    "                                                                             df['middle_stations']), axis=1)\n",
    "\n",
    "    # Associate to each ticket its distance\n",
    "    trips_df = pd.merge(trips_df, distances_df, on=['o_station', 'd_station', 'middle_stations', 'o_city', 'd_city'])\n",
    "\n",
    "    return trips_df;"
   ]
  },
  {
   "cell_type": "markdown",
   "metadata": {},
   "source": [
    "### Calculer la distance entre deux couples de coordonnées GPS\n",
    "\n",
    "Améliorer la lisibilité"
   ]
  },
  {
   "cell_type": "code",
   "execution_count": 284,
   "metadata": {},
   "outputs": [],
   "source": [
    "def computeDistance(originCity, destinationCity, originStation, destinationStation, middleStations):\n",
    "    \n",
    "    \n",
    "    # If there is only origin and destination city\n",
    "    if(pd.isna(originStation) | pd.isna(destinationStation)):\n",
    "        \n",
    "        # Find the GPS coordinates from cities.csv\n",
    "        originCoords = getCityCoords(originCity)\n",
    "        destinationCoords = getCityCoords(destinationCity)\n",
    "        \n",
    "        # Use geodesic distance\n",
    "        distance = geodesic(originCoords, destinationCoords).km\n",
    "    \n",
    "    # If there is origin and destination stations\n",
    "    elif(pd.notna(originStation) & pd.notna(destinationStation)):\n",
    "        \n",
    "        # If there is middle stations\n",
    "        if(pd.notna(middleStations)):\n",
    "            \n",
    "            # Enter the middle stations in an array\n",
    "            middleStations = middleStations.strip('{}')\n",
    "            stationsTable = middleStations.split(',')\n",
    "                   \n",
    "        # Add the first station\n",
    "        stationsTable.insert(0, originStation)\n",
    "        \n",
    "        # Add the last station\n",
    "        stationsTable.append(destinationStation)\n",
    "        \n",
    "        # Initialize the distance\n",
    "        distance = 0\n",
    "        \n",
    "        # Add the distance between each couple of stations\n",
    "        for station in range(0, len(stationsTable), 2):    \n",
    "            distance = distance + getDistanceBetweenTwoStations(stationsTable[station], stationsTable[station+1])\n",
    "            \n",
    "        \n",
    "    # If there is none, exit the program\n",
    "    else:\n",
    "        print('An error occured')\n",
    "        sys.exit(0)\n",
    "    \n",
    "    return distance;"
   ]
  },
  {
   "cell_type": "markdown",
   "metadata": {},
   "source": [
    "### Calculer la distance entre deux stations"
   ]
  },
  {
   "cell_type": "code",
   "execution_count": 285,
   "metadata": {},
   "outputs": [],
   "source": [
    "def getDistanceBetweenTwoStations(firstStation, secondStation):\n",
    "    \n",
    "    # Get the coordinates of both stations\n",
    "    firstStationCoords = getStationCoords(int(firstStation))\n",
    "    secondStationCoords = getStationCoords(int(secondStation))\n",
    "    \n",
    "    # Compute their distance using geodesic\n",
    "    distance = geodesic(firstStationCoords, secondStationCoords).km\n",
    "    \n",
    "    return distance;"
   ]
  },
  {
   "cell_type": "markdown",
   "metadata": {},
   "source": [
    "### Récupérer les coordonnées GPS d'une station"
   ]
  },
  {
   "cell_type": "code",
   "execution_count": 286,
   "metadata": {},
   "outputs": [],
   "source": [
    "def getStationCoords(station_id):\n",
    "    \n",
    "    station_lat = stations_df.loc[stations_df['id'] == station_id, 'latitude'].item()\n",
    "    station_lon = stations_df.loc[stations_df['id'] == station_id, 'longitude'].item()\n",
    "    \n",
    "    return (station_lat, station_lon)"
   ]
  },
  {
   "cell_type": "markdown",
   "metadata": {},
   "source": [
    "### Récupérer les coordonnées GPS d'une ville"
   ]
  },
  {
   "cell_type": "code",
   "execution_count": 287,
   "metadata": {},
   "outputs": [],
   "source": [
    "def getCityCoords(city_id):\n",
    "    \n",
    "    city_lat = cities_df.loc[cities_df['id'] == city_id, 'latitude'].item()\n",
    "    city_lon = cities_df.loc[cities_df['id'] == city_id, 'longitude'].item()\n",
    "    \n",
    "    return (city_lat, city_lon)"
   ]
  },
  {
   "cell_type": "markdown",
   "metadata": {},
   "source": [
    "## Main"
   ]
  },
  {
   "cell_type": "code",
   "execution_count": 288,
   "metadata": {},
   "outputs": [
    {
     "name": "stdout",
     "output_type": "stream",
     "text": [
      "train         85.066348\n",
      "bus           36.524480\n",
      "carpooling    27.421719\n",
      "dtype: float64\n",
      "            id  company  o_station  d_station            departure_ts  \\\n",
      "0      6795025     8385        NaN        NaN  2017-10-13 14:00:00+00   \n",
      "1      6795026        9       63.0     1044.0  2017-10-13 13:05:00+00   \n",
      "2      6795027     8377     5905.0     6495.0  2017-10-13 13:27:00+00   \n",
      "3      6795028     8377     5905.0     6495.0  2017-10-13 13:27:00+00   \n",
      "4      6795029     8381     5905.0     6495.0  2017-10-13 21:46:00+00   \n",
      "...        ...      ...        ...        ...                     ...   \n",
      "74163  6869182       13      279.0    10729.0  2017-10-27 02:30:00+00   \n",
      "74164  6869185        9      279.0      304.0  2017-10-27 07:00:00+00   \n",
      "74165  6869187     8371    10642.0      304.0  2017-10-27 08:30:00+00   \n",
      "74166  6869189       13      279.0      304.0  2017-10-27 13:25:00+00   \n",
      "74167  6869191     8371    10642.0    10729.0  2017-10-27 14:45:00+00   \n",
      "\n",
      "                   arrival_ts  price_in_cents                   search_ts  \\\n",
      "0      2017-10-13 20:10:00+00            4550  2017-10-01 00:13:31.327+00   \n",
      "1      2017-10-14 06:55:00+00            1450  2017-10-01 00:13:35.773+00   \n",
      "2      2017-10-14 21:24:00+00            7400  2017-10-01 00:13:40.212+00   \n",
      "3      2017-10-14 11:02:00+00           13500  2017-10-01 00:13:40.213+00   \n",
      "4      2017-10-14 19:32:00+00            7710  2017-10-01 00:13:40.213+00   \n",
      "...                       ...             ...                         ...   \n",
      "74163  2017-10-27 16:00:00+00            2590  2017-10-19 10:35:42.943+00   \n",
      "74164  2017-10-27 13:30:00+00            2700  2017-10-19 10:35:42.943+00   \n",
      "74165  2017-10-27 15:15:00+00            3000  2017-10-19 10:35:42.943+00   \n",
      "74166  2017-10-27 21:10:00+00            2880  2017-10-19 10:35:42.943+00   \n",
      "74167  2017-10-27 21:40:00+00            2000  2017-10-19 10:35:42.943+00   \n",
      "\n",
      "           middle_stations other_companies  o_city  d_city  \n",
      "0                      NaN             NaN     611     542  \n",
      "1                {149,418}            {13}     611     542  \n",
      "2      {798,798,6794,6246}     {8377,8376}     611     542  \n",
      "3      {798,798,6794,6246}     {8377,8376}     611     542  \n",
      "4              {5983,5983}          {8380}     611     542  \n",
      "...                    ...             ...     ...     ...  \n",
      "74163            {408,408}          {8371}     628     562  \n",
      "74164          {1105,1105}             {9}     628     562  \n",
      "74165          {1105,1105}             {9}     628     562  \n",
      "74166            {863,863}            {13}     628     562  \n",
      "74167            {863,863}          {8371}     628     562  \n",
      "\n",
      "[74168 rows x 12 columns]\n",
      "            id  company  o_station  d_station            departure_ts  \\\n",
      "0      6795025     8385        NaN        NaN  2017-10-13 14:00:00+00   \n",
      "1      6795026        9       63.0     1044.0  2017-10-13 13:05:00+00   \n",
      "2      6795027     8377     5905.0     6495.0  2017-10-13 13:27:00+00   \n",
      "3      6795028     8377     5905.0     6495.0  2017-10-13 13:27:00+00   \n",
      "4      6795029     8381     5905.0     6495.0  2017-10-13 21:46:00+00   \n",
      "...        ...      ...        ...        ...                     ...   \n",
      "74163  6869122     8380    10865.0     4035.0  2017-10-20 06:38:00+00   \n",
      "74164  6869124     8380    10865.0     4035.0  2017-10-20 17:36:00+00   \n",
      "74165  6869123     8380    10865.0     4035.0  2017-10-20 16:38:00+00   \n",
      "74166  6869126       13    10865.0        7.0  2017-10-20 14:15:00+00   \n",
      "74167  6869181       13        3.0    10729.0  2017-10-27 01:40:00+00   \n",
      "\n",
      "                   arrival_ts  price_in_cents                   search_ts  \\\n",
      "0      2017-10-13 20:10:00+00            4550  2017-10-01 00:13:31.327+00   \n",
      "1      2017-10-14 06:55:00+00            1450  2017-10-01 00:13:35.773+00   \n",
      "2      2017-10-14 21:24:00+00            7400  2017-10-01 00:13:40.212+00   \n",
      "3      2017-10-14 11:02:00+00           13500  2017-10-01 00:13:40.213+00   \n",
      "4      2017-10-14 19:32:00+00            7710  2017-10-01 00:13:40.213+00   \n",
      "...                       ...             ...                         ...   \n",
      "74163  2017-10-20 12:27:00+00            3110   2017-10-19 10:35:21.77+00   \n",
      "74164  2017-10-21 07:41:00+00            3110   2017-10-19 10:35:21.77+00   \n",
      "74165  2017-10-21 07:41:00+00            3970   2017-10-19 10:35:21.77+00   \n",
      "74166  2017-10-20 19:00:00+00            2100  2017-10-19 10:35:22.635+00   \n",
      "74167  2017-10-27 16:00:00+00            2590  2017-10-19 10:35:42.942+00   \n",
      "\n",
      "             middle_stations other_companies  o_city  d_city     distance  \n",
      "0                        NaN             NaN     611     542   503.136831  \n",
      "1                  {149,418}            {13}     611     542   505.989501  \n",
      "2        {798,798,6794,6246}     {8377,8376}     611     542  1054.478836  \n",
      "3        {798,798,6794,6246}     {8377,8376}     611     542  1054.478836  \n",
      "4                {5983,5983}          {8380}     611     542   630.202522  \n",
      "...                      ...             ...     ...     ...          ...  \n",
      "74163            {3640,3640}          {8379}      46    5105   135.330723  \n",
      "74164            {3640,3640}          {8380}      46    5105   135.330723  \n",
      "74165  {6383,6383,7719,7719}     {8380,8380}      46    5105   167.758459  \n",
      "74166                  {3,3}             {9}      46    5105   202.842395  \n",
      "74167              {408,408}          {8371}     628     562   368.419253  \n",
      "\n",
      "[74168 rows x 13 columns]\n"
     ]
    }
   ],
   "source": [
    "myTrip_df = tickets_df\n",
    "\n",
    "# Compare the transport types\n",
    "myTrainTrip_df, myBusTrip_df, myCarpoolingTrip_df = separateTransportTypes(myTrip_df)\n",
    "\n",
    "pricesRange = comparePrices(myTrainTrip_df, myBusTrip_df, myCarpoolingTrip_df)\n",
    "\n",
    "print(pricesRange)\n",
    "\n",
    "# Add distance to the dataset\n",
    "print(myTrip_df)\n",
    "myTrip_distance_df = addDistance(myTrip_df)\n",
    "\n",
    "print(myTrip_distance_df)\n"
   ]
  },
  {
   "cell_type": "code",
   "execution_count": null,
   "metadata": {},
   "outputs": [],
   "source": []
  }
 ],
 "metadata": {
  "kernelspec": {
   "display_name": "Python 3",
   "language": "python",
   "name": "python3"
  },
  "language_info": {
   "codemirror_mode": {
    "name": "ipython",
    "version": 3
   },
   "file_extension": ".py",
   "mimetype": "text/x-python",
   "name": "python",
   "nbconvert_exporter": "python",
   "pygments_lexer": "ipython3",
   "version": "3.7.4"
  }
 },
 "nbformat": 4,
 "nbformat_minor": 4
}
