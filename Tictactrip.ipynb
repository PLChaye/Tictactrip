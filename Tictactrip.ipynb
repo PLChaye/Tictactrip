{
 "cells": [
  {
   "cell_type": "markdown",
   "metadata": {},
   "source": [
    "# Exercice de data crunching\n",
    " "
   ]
  },
  {
   "cell_type": "markdown",
   "metadata": {},
   "source": [
    "## Installation des librairies nécessaires\n",
    "\n",
    "- pandas\n",
    "- datetime\n",
    "\n",
    "\n",
    "**Documentation:**\n",
    "- Tutoriel utilisé: https://jakevdp.github.io/blog/2017/12/05/installing-python-packages-from-jupyter/"
   ]
  },
  {
   "cell_type": "code",
   "execution_count": 225,
   "metadata": {},
   "outputs": [
    {
     "name": "stdout",
     "output_type": "stream",
     "text": [
      "Requirement already satisfied: pandas in c:\\users\\admin\\appdata\\local\\programs\\python\\python37\\lib\\site-packages (1.0.3)\n",
      "Requirement already satisfied: numpy>=1.13.3 in c:\\users\\admin\\appdata\\local\\programs\\python\\python37\\lib\\site-packages (from pandas) (1.18.4)\n",
      "Requirement already satisfied: pytz>=2017.2 in c:\\users\\admin\\appdata\\local\\programs\\python\\python37\\lib\\site-packages (from pandas) (2019.3)\n",
      "Requirement already satisfied: python-dateutil>=2.6.1 in c:\\users\\admin\\appdata\\local\\programs\\python\\python37\\lib\\site-packages (from pandas) (2.8.1)\n",
      "Requirement already satisfied: six>=1.5 in c:\\users\\admin\\appdata\\local\\programs\\python\\python37\\lib\\site-packages (from python-dateutil>=2.6.1->pandas) (1.13.0)\n",
      "Requirement already satisfied: datetime in c:\\users\\admin\\appdata\\local\\programs\\python\\python37\\lib\\site-packages (4.3)\n",
      "Requirement already satisfied: pytz in c:\\users\\admin\\appdata\\local\\programs\\python\\python37\\lib\\site-packages (from datetime) (2019.3)\n",
      "Requirement already satisfied: zope.interface in c:\\users\\admin\\appdata\\local\\programs\\python\\python37\\lib\\site-packages (from datetime) (5.1.0)\n",
      "Requirement already satisfied: setuptools in c:\\users\\admin\\appdata\\local\\programs\\python\\python37\\lib\\site-packages (from zope.interface->datetime) (40.8.0)\n",
      "Requirement already satisfied: numpy in c:\\users\\admin\\appdata\\local\\programs\\python\\python37\\lib\\site-packages (1.18.4)\n",
      "Collecting geopy\n",
      "  Downloading geopy-1.22.0-py2.py3-none-any.whl (113 kB)\n",
      "Collecting geographiclib<2,>=1.49\n",
      "  Downloading geographiclib-1.50-py3-none-any.whl (38 kB)\n",
      "Installing collected packages: geographiclib, geopy\n",
      "Successfully installed geographiclib-1.50 geopy-1.22.0\n"
     ]
    }
   ],
   "source": [
    "import sys\n",
    "\n",
    "# Installing pandas\n",
    "!{sys.executable} -m pip install pandas\n",
    "\n",
    "# Installing datetime\n",
    "!{sys.executable} -m pip install datetime\n",
    "\n",
    "# Installing numpy\n",
    "!{sys.executable} -m pip install numpy\n",
    "\n",
    "# Installing geopy\n",
    "!{sys.executable} -m pip install geopy"
   ]
  },
  {
   "cell_type": "markdown",
   "metadata": {},
   "source": [
    "## Importation des datasets\n",
    "\n"
   ]
  },
  {
   "cell_type": "code",
   "execution_count": 231,
   "metadata": {},
   "outputs": [],
   "source": [
    "import pandas as pd\n",
    "import datetime\n",
    "import numpy as np\n",
    "from geopy.distance import geodesic\n",
    "\n",
    "# Importing CSVs\n",
    "tickets_df = pd.read_csv('./csv/ticket_data.csv', comment='#')\n",
    "cities_df = pd.read_csv('./csv/cities.csv', comment='#')\n",
    "providers_df = pd.read_csv('./csv/providers.csv', comment='#')\n",
    "stations_df = pd.read_csv('./csv/stations.csv', comment='#')"
   ]
  },
  {
   "cell_type": "markdown",
   "metadata": {},
   "source": [
    "# PARTIE 1 : Stats d'un trajet choisi par l'utilisateur"
   ]
  },
  {
   "cell_type": "markdown",
   "metadata": {},
   "source": [
    "## A. Sélection d'un trajet\n",
    "\n",
    "**Documentation:**\n",
    "- Doc pandas: https://pandas.pydata.org/pandas-docs/stable/user_guide/  \n",
    "- Exemple supplémentaire StackOverflow: https://stackoverflow.com/questions/17071871/how-to-select-rows-from-a-dataframe-based-on-column-values"
   ]
  },
  {
   "cell_type": "markdown",
   "metadata": {},
   "source": [
    "### Saisie des villes de départ et d'arrivée"
   ]
  },
  {
   "cell_type": "code",
   "execution_count": 64,
   "metadata": {},
   "outputs": [],
   "source": [
    "# Get the trip origin and destination input\n",
    "def getTripEndpoints():\n",
    "    \n",
    "    destination_city = input(\"You want to go to : \")\n",
    "    origin_city = input(\"from : \")\n",
    "    \n",
    "    return getCityId(origin_city), getCityId(destination_city);"
   ]
  },
  {
   "cell_type": "markdown",
   "metadata": {},
   "source": [
    "### Récupération de l'id d'une ville"
   ]
  },
  {
   "cell_type": "code",
   "execution_count": 100,
   "metadata": {},
   "outputs": [],
   "source": [
    "# Get the id of a given city\n",
    "def getCityId(city):\n",
    "    \n",
    "    # The cities are in lowercase in the column we're searching\n",
    "    city = city.lower()\n",
    "    \n",
    "    # If the city isn't in the dataframe\n",
    "    if(cities_df.loc[cities_df['unique_name'].isin([city])].empty):\n",
    "        \n",
    "        # Not very clean exit\n",
    "        print('We couln\\'t find this city')\n",
    "        sys.exit(0)\n",
    "    \n",
    "    # Find the correct row in the cities dataframe\n",
    "    else:\n",
    "        \n",
    "        # Get the id\n",
    "        cityId = cities_df.loc[cities_df['unique_name'] == city, 'id'].item()\n",
    "    \n",
    "    return cityId;"
   ]
  },
  {
   "cell_type": "markdown",
   "metadata": {},
   "source": [
    "### Sélection de tous les tickets pour un trajet"
   ]
  },
  {
   "cell_type": "code",
   "execution_count": 101,
   "metadata": {},
   "outputs": [],
   "source": [
    "# Function returning a dataframe with all the trips between these cities\n",
    "def getTrips(tickets_df, originCity = 628, destinationCity = 453):\n",
    "    \n",
    "    # Selecting the trips between origin and destination\n",
    "    selected_trips_df = tickets_df.loc[(tickets_df['o_city'] == originCity) & (tickets_df['d_city'] == destinationCity)]\n",
    "    \n",
    "    return selected_trips_df;"
   ]
  },
  {
   "cell_type": "markdown",
   "metadata": {},
   "source": [
    "## B. Prix des tickets"
   ]
  },
  {
   "cell_type": "code",
   "execution_count": 67,
   "metadata": {},
   "outputs": [],
   "source": [
    "# Getting the minimum and the maximum price of the selected trip and the mean of the prices\n",
    "\n",
    "def getPricesBounds(trips_df):\n",
    "    minPrice = (trips_df['price_in_cents'].min()) / 100\n",
    "    avgPrice = (trips_df['price_in_cents'].mean()) / 100\n",
    "    maxPrice = (trips_df['price_in_cents'].max()) / 100\n",
    "    \n",
    "    priceBounds = pd.Series([minPrice, avgPrice, maxPrice], index=list(['minimum', 'average', 'maximum']))\n",
    "    \n",
    "    return priceBounds;"
   ]
  },
  {
   "cell_type": "markdown",
   "metadata": {},
   "source": [
    "## C. Durées des trajets\n",
    "\n",
    "### Ajout d'une colonne 'durée du trajet'\n",
    "\n",
    "**Documentation:**\n",
    "- https://pandas.pydata.org/pandas-docs/stable/user_guide/timeseries.html\n",
    "- https://pandas.pydata.org/pandas-docs/stable/user_guide/timedeltas.html\n",
    "\n",
    "**Problème rencontré:**  \n",
    "- *SettingWithCopyWarning*\n",
    "\n",
    "    Solutions trouvées: \n",
    "    - https://stackoverflow.com/questions/20625582/how-to-deal-with-settingwithcopywarning-in-pandas\n",
    "    - https://stackoverflow.com/questions/36846060/how-to-replace-an-entire-column-on-pandas-dataframe"
   ]
  },
  {
   "cell_type": "code",
   "execution_count": 68,
   "metadata": {},
   "outputs": [],
   "source": [
    "# Adds a duration column and format the timestamps to datetime\n",
    "def addDuration(trips_df):\n",
    "    \n",
    "    # Changing departure and arrival to datetime\n",
    "    formatted_trips_df = trips_df.loc[:, ['departure_ts', 'arrival_ts']].apply(pd.to_datetime)\n",
    "    \n",
    "    # Adding all the other columns\n",
    "    formatted_trips_df = trips_df.assign(departure_ts = formatted_trips_df['departure_ts'], arrival_ts = formatted_trips_df['arrival_ts'])\n",
    "    \n",
    "    \n",
    "    # Create a Serie containing the durations between departure and arrival\n",
    "    duration_s = formatted_trips_df.loc[:, 'arrival_ts'] - formatted_trips_df.loc[:, 'departure_ts']\n",
    "    duration_s.name = 'duration_tdelt'\n",
    "    \n",
    "    # Adding the durations to the dataframe\n",
    "    formatted_trips_df = pd.concat([formatted_trips_df, duration_s], axis = 1)\n",
    "    \n",
    "    return formatted_trips_df;"
   ]
  },
  {
   "cell_type": "markdown",
   "metadata": {},
   "source": [
    "### Calcul des durées min, max et moyennes\n",
    "\n",
    "**Documentation:**  \n",
    "- Convertir un timedelta en secondes: https://pandas.pydata.org/pandas-docs/stable/user_guide/timedeltas.html#conversions"
   ]
  },
  {
   "cell_type": "code",
   "execution_count": 69,
   "metadata": {},
   "outputs": [],
   "source": [
    "def getDurationBounds(trips_df):\n",
    "    \n",
    "    # Min and max duration\n",
    "    minDuration = min(trips_df.loc[:, 'duration_tdelt'])\n",
    "    maxDuration = max(trips_df.loc[:, 'duration_tdelt'])\n",
    "    \n",
    "    # Converting the durations in seconds\n",
    "    durationInSecs = trips_df.loc[:, 'duration_tdelt'].astype('timedelta64[s]')\n",
    "    \n",
    "    # Computing the mean and returning it in timedelta\n",
    "    avgDuration = durationInSecs.mean()\n",
    "    avgDuration = pd.to_timedelta(avgDuration, 'seconds')\n",
    "    \n",
    "    durationBounds_s = pd.Series([minDuration, avgDuration, maxDuration], index=list(['minimum', 'average', 'maximum']))\n",
    "    \n",
    "    return durationBounds_s;"
   ]
  },
  {
   "cell_type": "markdown",
   "metadata": {},
   "source": [
    "## D. Affichage\n",
    "\n",
    "### Affichage d'un timestamp au format HH:mm   \n",
    "\n",
    "**Documentation:**  \n",
    "- Formater un timedelta: https://stackoverflow.com/questions/538666/format-timedelta-to-string"
   ]
  },
  {
   "cell_type": "code",
   "execution_count": 70,
   "metadata": {},
   "outputs": [],
   "source": [
    "# Display of a timedelta\n",
    "def timedeltaDisplay(timedelta):\n",
    "    \n",
    "    # Get the total # of seconds\n",
    "    timedeltaSeconds = timedelta.seconds\n",
    "    \n",
    "    # Translate it in hours and minutes\n",
    "    hours, remainder = divmod(timedeltaSeconds,3600)\n",
    "    minutes = remainder // 60\n",
    "    \n",
    "    # Build the string\n",
    "    display = '{:02d}h{:02d}mn'.format(hours, minutes)\n",
    "    return display;"
   ]
  },
  {
   "cell_type": "markdown",
   "metadata": {},
   "source": [
    "### Récupération du nom complet d'une ville"
   ]
  },
  {
   "cell_type": "code",
   "execution_count": 71,
   "metadata": {},
   "outputs": [],
   "source": [
    "# Get the city, its region and its country \n",
    "def getCityLocalName(city_id):\n",
    "    \n",
    "    # Search the city local name using id\n",
    "    cityLocalName = cities_df.loc[cities_df['id'] == city_id, 'local_name'].item()\n",
    "    \n",
    "    # Split the city, the region and the country    \n",
    "    cityLocation = pd.Series(cityLocalName.split(', '), index=list(['city', 'region', 'country']))\n",
    "    \n",
    "    return cityLocation;"
   ]
  },
  {
   "cell_type": "markdown",
   "metadata": {},
   "source": [
    "### Affichage des résultats\n",
    "\n",
    "**Documentation:**  \n",
    "- Affichage des durées moyennes: https://stackoverflow.com/questions/538666/format-timedelta-to-string"
   ]
  },
  {
   "cell_type": "code",
   "execution_count": 72,
   "metadata": {},
   "outputs": [],
   "source": [
    "# Display the stats of the trips available\n",
    "def displayTripStats(origin_city_id, destination_city_id, priceBounds, durationBounds):\n",
    "    \n",
    "    # Get the cities full names\n",
    "    origin = getCityLocalName(origin_city_id)\n",
    "    destination = getCityLocalName(destination_city_id)\n",
    "    \n",
    "    # Print trip endpoints\n",
    "    print(\"\\n\")\n",
    "    print(\"Trip from {} ({}) to {} ({}):\\n\"\n",
    "          .format(origin.city, origin.region, destination.city, destination.region))\n",
    "         \n",
    "    # Print prices available\n",
    "    print(\"Prices : {:.2f}€ >>> {:.2f}€. Average: {:.2f}€\"\n",
    "          .format(priceBounds.minimum, priceBounds.maximum, priceBounds.average))\n",
    "    \n",
    "    # Print trip durations\n",
    "    print(\"Duration : {} >>> {}. Average: {}\"\n",
    "          .format(\n",
    "              timedeltaDisplay(durationBounds.minimum), \n",
    "              timedeltaDisplay(durationBounds.maximum), \n",
    "              timedeltaDisplay(durationBounds.average)))\n",
    "    \n",
    "    return;"
   ]
  },
  {
   "cell_type": "markdown",
   "metadata": {},
   "source": [
    "## E. Main\n",
    "\n",
    "Reste à gérer le cas où il n'y a aucun trajet entre les deux villes sélectionnées"
   ]
  },
  {
   "cell_type": "code",
   "execution_count": 202,
   "metadata": {},
   "outputs": [
    {
     "name": "stdout",
     "output_type": "stream",
     "text": [
      "You want to go to : london\n",
      "from : paris\n",
      "\n",
      "\n",
      "Trip from Paris (Île-de-France) to London (England):\n",
      "\n",
      "Prices : 35.00€ >>> 263.40€. Average: 89.34€\n",
      "Duration : 03h59mn >>> 11h32mn. Average: 09h43mn\n"
     ]
    }
   ],
   "source": [
    "# Get the ids of the destination and the origin city entered \n",
    "originCityId, destinationCityId = getTripEndpoints()\n",
    "\n",
    "# Select the trips available between the given cities\n",
    "myTrip_df = getTrips(tickets_df, originCityId, destinationCityId)\n",
    "\n",
    "# Get price overview\n",
    "priceBounds_s = getPricesBounds(myTrip_df)\n",
    "\n",
    "# Add a duration column for each trip\n",
    "myTrip_df = addDuration(myTrip_df)\n",
    "\n",
    "# Get duration overview\n",
    "durationBounds_s = getDurationBounds(myTrip_df)\n",
    "\n",
    "\n",
    "# Display the results\n",
    "displayTripStats(originCityId, destinationCityId, priceBounds_s, durationBounds_s)"
   ]
  },
  {
   "cell_type": "markdown",
   "metadata": {},
   "source": [
    "# PARTIE 2 : Prix selon la distance et le moyen de transport\n",
    "\n",
    "## A. Sélection de trajets selon certains critères\n",
    "\n",
    "### Récupérer les trajets utilisant le même moyen de transport\n",
    "\n",
    "**Problème rencontré:**\n",
    "\n",
    "Je ne sais pas lire, donc je perds du temps\n",
    "\n",
    "**Solution:**\n",
    "\n",
    "Relire"
   ]
  },
  {
   "cell_type": "code",
   "execution_count": 207,
   "metadata": {},
   "outputs": [],
   "source": [
    "def getByTransportType(trips_df, transportType):\n",
    "\n",
    "    # Get all the ids of providers matching the selected transport type\n",
    "    companyByTransportType = providers_df.loc[providers_df['transport_type'] == transportType, 'id']\n",
    "\n",
    "    # Select the trips from the selected providers\n",
    "    selectedTrips_df = trips_df.loc[trips_df['company'].isin(companyByTransportType)]\n",
    "    \n",
    "    return selectedTrips_df;"
   ]
  },
  {
   "cell_type": "markdown",
   "metadata": {},
   "source": [
    "### Découper un dataframe selon les moyens de transports"
   ]
  },
  {
   "cell_type": "code",
   "execution_count": 208,
   "metadata": {},
   "outputs": [],
   "source": [
    "# Returns 3 separated dataframes for train, bus and carpooling trip tickets\n",
    "def separateTransportTypes(trips_df):\n",
    "    \n",
    "    trainTrips_df = getByTransportType(trips_df, 'train')\n",
    "    busTrips_df = getByTransportType(trips_df, 'bus')\n",
    "    carpoolingTrips_df = getByTransportType(trips_df, 'carpooling')\n",
    "    \n",
    "    return trainTrips_df, busTrips_df, carpoolingTrips_df;"
   ]
  },
  {
   "cell_type": "markdown",
   "metadata": {},
   "source": [
    "### Comparer les prix selon le moyen de transport"
   ]
  },
  {
   "cell_type": "code",
   "execution_count": 213,
   "metadata": {},
   "outputs": [],
   "source": [
    "# Returns the average price for each mean of transport\n",
    "def comparePrices(trainTrip_df, busTrip_df, carpoolingTrip_df):\n",
    "    \n",
    "    # Computes the average\n",
    "    avgTrainPrice = trainTrip_df.price_in_cents.mean() / 100\n",
    "    avgBusPrice = busTrip_df.price_in_cents.mean() / 100\n",
    "    avgCarpoolingPrice = carpoolingTrip_df.price_in_cents.mean() / 100\n",
    "    \n",
    "    # Gather the average for each way of transportation\n",
    "    avgPrices = pd.Series([avgTrainPrice, avgBusPrice, avgCarpoolingPrice], index=list(['train', 'bus', 'carpooling']))\n",
    "    \n",
    "    return avgPrices;"
   ]
  },
  {
   "cell_type": "markdown",
   "metadata": {},
   "source": [
    "### Calcul de la distance d'un trajet\n",
    "\n",
    "**Documentation:**\n",
    "\n",
    "- geopy: https://pypi.org/project/geopy/\n",
    "\n",
    "**Démarche:**\n",
    "\n",
    "- Récupérer toutes les villes de départ/arrivée + stations de départ/arrivée + stations intermédiaires\n",
    "- Supprimer les doublons\n",
    "- Récupérer les coordonnées de toutes les villes / stations\n",
    "    - Ajouter o_station au début, sinon ajouter o_city\n",
    "    - Ajouter middle_stations, si définies\n",
    "    - Ajouter d_station à la fin, sinon ajouter d_city\n",
    "- Calculer les distances associées\n",
    "- Ajouter la colonne distance à tous les trajets\n"
   ]
  },
  {
   "cell_type": "code",
   "execution_count": 256,
   "metadata": {},
   "outputs": [
    {
     "data": {
      "text/html": [
       "<div>\n",
       "<style scoped>\n",
       "    .dataframe tbody tr th:only-of-type {\n",
       "        vertical-align: middle;\n",
       "    }\n",
       "\n",
       "    .dataframe tbody tr th {\n",
       "        vertical-align: top;\n",
       "    }\n",
       "\n",
       "    .dataframe thead th {\n",
       "        text-align: right;\n",
       "    }\n",
       "</style>\n",
       "<table border=\"1\" class=\"dataframe\">\n",
       "  <thead>\n",
       "    <tr style=\"text-align: right;\">\n",
       "      <th></th>\n",
       "      <th>o_station</th>\n",
       "      <th>d_station</th>\n",
       "      <th>middle_stations</th>\n",
       "      <th>o_city</th>\n",
       "      <th>d_city</th>\n",
       "    </tr>\n",
       "  </thead>\n",
       "  <tbody>\n",
       "    <tr>\n",
       "      <th>0</th>\n",
       "      <td>NaN</td>\n",
       "      <td>NaN</td>\n",
       "      <td>NaN</td>\n",
       "      <td>611</td>\n",
       "      <td>542</td>\n",
       "    </tr>\n",
       "    <tr>\n",
       "      <th>1</th>\n",
       "      <td>63.0</td>\n",
       "      <td>1044.0</td>\n",
       "      <td>{149,418}</td>\n",
       "      <td>611</td>\n",
       "      <td>542</td>\n",
       "    </tr>\n",
       "    <tr>\n",
       "      <th>2</th>\n",
       "      <td>5905.0</td>\n",
       "      <td>6495.0</td>\n",
       "      <td>{798,798,6794,6246}</td>\n",
       "      <td>611</td>\n",
       "      <td>542</td>\n",
       "    </tr>\n",
       "    <tr>\n",
       "      <th>3</th>\n",
       "      <td>5905.0</td>\n",
       "      <td>6495.0</td>\n",
       "      <td>{798,798,6794,6246}</td>\n",
       "      <td>611</td>\n",
       "      <td>542</td>\n",
       "    </tr>\n",
       "    <tr>\n",
       "      <th>4</th>\n",
       "      <td>5905.0</td>\n",
       "      <td>6495.0</td>\n",
       "      <td>{5983,5983}</td>\n",
       "      <td>611</td>\n",
       "      <td>542</td>\n",
       "    </tr>\n",
       "    <tr>\n",
       "      <th>...</th>\n",
       "      <td>...</td>\n",
       "      <td>...</td>\n",
       "      <td>...</td>\n",
       "      <td>...</td>\n",
       "      <td>...</td>\n",
       "    </tr>\n",
       "    <tr>\n",
       "      <th>74163</th>\n",
       "      <td>279.0</td>\n",
       "      <td>10729.0</td>\n",
       "      <td>{408,408}</td>\n",
       "      <td>628</td>\n",
       "      <td>562</td>\n",
       "    </tr>\n",
       "    <tr>\n",
       "      <th>74164</th>\n",
       "      <td>279.0</td>\n",
       "      <td>304.0</td>\n",
       "      <td>{1105,1105}</td>\n",
       "      <td>628</td>\n",
       "      <td>562</td>\n",
       "    </tr>\n",
       "    <tr>\n",
       "      <th>74165</th>\n",
       "      <td>10642.0</td>\n",
       "      <td>304.0</td>\n",
       "      <td>{1105,1105}</td>\n",
       "      <td>628</td>\n",
       "      <td>562</td>\n",
       "    </tr>\n",
       "    <tr>\n",
       "      <th>74166</th>\n",
       "      <td>279.0</td>\n",
       "      <td>304.0</td>\n",
       "      <td>{863,863}</td>\n",
       "      <td>628</td>\n",
       "      <td>562</td>\n",
       "    </tr>\n",
       "    <tr>\n",
       "      <th>74167</th>\n",
       "      <td>10642.0</td>\n",
       "      <td>10729.0</td>\n",
       "      <td>{863,863}</td>\n",
       "      <td>628</td>\n",
       "      <td>562</td>\n",
       "    </tr>\n",
       "  </tbody>\n",
       "</table>\n",
       "<p>74168 rows × 5 columns</p>\n",
       "</div>"
      ],
      "text/plain": [
       "       o_station  d_station      middle_stations  o_city  d_city\n",
       "0            NaN        NaN                  NaN     611     542\n",
       "1           63.0     1044.0            {149,418}     611     542\n",
       "2         5905.0     6495.0  {798,798,6794,6246}     611     542\n",
       "3         5905.0     6495.0  {798,798,6794,6246}     611     542\n",
       "4         5905.0     6495.0          {5983,5983}     611     542\n",
       "...          ...        ...                  ...     ...     ...\n",
       "74163      279.0    10729.0            {408,408}     628     562\n",
       "74164      279.0      304.0          {1105,1105}     628     562\n",
       "74165    10642.0      304.0          {1105,1105}     628     562\n",
       "74166      279.0      304.0            {863,863}     628     562\n",
       "74167    10642.0    10729.0            {863,863}     628     562\n",
       "\n",
       "[74168 rows x 5 columns]"
      ]
     },
     "execution_count": 256,
     "metadata": {},
     "output_type": "execute_result"
    }
   ],
   "source": [
    "distances_df = tickets_df.loc[:,['o_station', 'd_station', 'middle_stations', 'o_city', 'd_city']]\n",
    "distances_df.drop_duplicates()\n",
    "\n",
    "\n",
    "distances_df"
   ]
  },
  {
   "cell_type": "markdown",
   "metadata": {},
   "source": [
    "## Main"
   ]
  },
  {
   "cell_type": "code",
   "execution_count": 214,
   "metadata": {},
   "outputs": [
    {
     "name": "stdout",
     "output_type": "stream",
     "text": [
      "train         85.066348\n",
      "bus           36.524480\n",
      "carpooling    27.421719\n",
      "dtype: float64\n"
     ]
    }
   ],
   "source": [
    "# Add a duration column for every row of the processed dataset\n",
    "myTrip_df = addDuration(tickets_df)\n",
    "\n",
    "myTrainTrip_df, myBusTrip_df, myCarpoolingTrip_df = separateTransportTypes(myTrip_df)\n",
    "\n",
    "pricesRange = comparePrices(myTrainTrip_df, myBusTrip_df, myCarpoolingTrip_df)\n",
    "\n",
    "print(pricesRange)"
   ]
  },
  {
   "cell_type": "code",
   "execution_count": 242,
   "metadata": {},
   "outputs": [
    {
     "data": {
      "text/html": [
       "<div>\n",
       "<style scoped>\n",
       "    .dataframe tbody tr th:only-of-type {\n",
       "        vertical-align: middle;\n",
       "    }\n",
       "\n",
       "    .dataframe tbody tr th {\n",
       "        vertical-align: top;\n",
       "    }\n",
       "\n",
       "    .dataframe thead th {\n",
       "        text-align: right;\n",
       "    }\n",
       "</style>\n",
       "<table border=\"1\" class=\"dataframe\">\n",
       "  <thead>\n",
       "    <tr style=\"text-align: right;\">\n",
       "      <th></th>\n",
       "      <th>id</th>\n",
       "      <th>unique_name</th>\n",
       "      <th>latitude</th>\n",
       "      <th>longitude</th>\n",
       "    </tr>\n",
       "  </thead>\n",
       "  <tbody>\n",
       "    <tr>\n",
       "      <th>303</th>\n",
       "      <td>304</td>\n",
       "      <td>Gare de Haluchère-Batignolles</td>\n",
       "      <td>47.248785</td>\n",
       "      <td>-1.520898</td>\n",
       "    </tr>\n",
       "  </tbody>\n",
       "</table>\n",
       "</div>"
      ],
      "text/plain": [
       "      id                    unique_name   latitude  longitude\n",
       "303  304  Gare de Haluchère-Batignolles  47.248785  -1.520898"
      ]
     },
     "execution_count": 242,
     "metadata": {},
     "output_type": "execute_result"
    }
   ],
   "source": [
    "stations_df.loc[stations_df['id'] == 304]"
   ]
  },
  {
   "cell_type": "code",
   "execution_count": null,
   "metadata": {},
   "outputs": [],
   "source": []
  }
 ],
 "metadata": {
  "kernelspec": {
   "display_name": "Python 3",
   "language": "python",
   "name": "python3"
  },
  "language_info": {
   "codemirror_mode": {
    "name": "ipython",
    "version": 3
   },
   "file_extension": ".py",
   "mimetype": "text/x-python",
   "name": "python",
   "nbconvert_exporter": "python",
   "pygments_lexer": "ipython3",
   "version": "3.7.4"
  }
 },
 "nbformat": 4,
 "nbformat_minor": 4
}
