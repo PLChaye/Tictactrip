{
 "cells": [
  {
   "cell_type": "markdown",
   "metadata": {},
   "source": [
    "# Exercice de data crunching - Tictactrip\n",
    " \n",
    " \n",
    "**Ma démarche:**\n",
    "\n",
    "J'ai commencé à lire le guide utilisateur pandas et à reproduire les exemples avec le dataset ticket_data jusqu'à ce que je puisse me lancer sur le premier point. Puis j'ai avancé petit à petit, en me référant à la doc quand je ne savais pas comment faire."
   ]
  },
  {
   "cell_type": "markdown",
   "metadata": {},
   "source": [
    "## Installation des librairies nécessaires\n",
    "\n",
    "- pandas\n",
    "- datetime\n",
    "- numpy\n",
    "- geopy\n",
    "- tabulate\n",
    "\n",
    "\n",
    "**Documentation:**\n",
    "- Tutoriel utilisé: https://jakevdp.github.io/blog/2017/12/05/installing-python-packages-from-jupyter/"
   ]
  },
  {
   "cell_type": "code",
   "execution_count": 1,
   "metadata": {},
   "outputs": [
    {
     "name": "stdout",
     "output_type": "stream",
     "text": [
      "Requirement already satisfied: pandas in c:\\users\\admin\\appdata\\local\\programs\\python\\python37\\lib\\site-packages (1.0.3)\n",
      "Requirement already satisfied: numpy>=1.13.3 in c:\\users\\admin\\appdata\\local\\programs\\python\\python37\\lib\\site-packages (from pandas) (1.18.4)\n",
      "Requirement already satisfied: python-dateutil>=2.6.1 in c:\\users\\admin\\appdata\\local\\programs\\python\\python37\\lib\\site-packages (from pandas) (2.8.1)\n",
      "Requirement already satisfied: pytz>=2017.2 in c:\\users\\admin\\appdata\\local\\programs\\python\\python37\\lib\\site-packages (from pandas) (2019.3)\n",
      "Requirement already satisfied: six>=1.5 in c:\\users\\admin\\appdata\\local\\programs\\python\\python37\\lib\\site-packages (from python-dateutil>=2.6.1->pandas) (1.13.0)\n",
      "Requirement already satisfied: datetime in c:\\users\\admin\\appdata\\local\\programs\\python\\python37\\lib\\site-packages (4.3)\n",
      "Requirement already satisfied: pytz in c:\\users\\admin\\appdata\\local\\programs\\python\\python37\\lib\\site-packages (from datetime) (2019.3)\n",
      "Requirement already satisfied: zope.interface in c:\\users\\admin\\appdata\\local\\programs\\python\\python37\\lib\\site-packages (from datetime) (5.1.0)\n",
      "Requirement already satisfied: setuptools in c:\\users\\admin\\appdata\\local\\programs\\python\\python37\\lib\\site-packages (from zope.interface->datetime) (40.8.0)\n",
      "Requirement already satisfied: numpy in c:\\users\\admin\\appdata\\local\\programs\\python\\python37\\lib\\site-packages (1.18.4)\n",
      "Requirement already satisfied: geopy in c:\\users\\admin\\appdata\\local\\programs\\python\\python37\\lib\\site-packages (1.22.0)\n",
      "Requirement already satisfied: geographiclib<2,>=1.49 in c:\\users\\admin\\appdata\\local\\programs\\python\\python37\\lib\\site-packages (from geopy) (1.50)\n",
      "Requirement already satisfied: tabulate in c:\\users\\admin\\appdata\\local\\programs\\python\\python37\\lib\\site-packages (0.8.7)\n"
     ]
    }
   ],
   "source": [
    "import sys\n",
    "\n",
    "# Installing pandas: it's a pandas exercise\n",
    "!{sys.executable} -m pip install pandas\n",
    "\n",
    "# Installing datetime: to handle timewise operations\n",
    "!{sys.executable} -m pip install datetime\n",
    "\n",
    "# Installing numpy: to manipulate arrays\n",
    "!{sys.executable} -m pip install numpy\n",
    "\n",
    "# Installing geopy: to convert GPS coordinates into distances\n",
    "!{sys.executable} -m pip install geopy\n",
    "\n",
    "# Installing tabulate: to display a pretty table\n",
    "!{sys.executable} -m pip install tabulate"
   ]
  },
  {
   "cell_type": "markdown",
   "metadata": {},
   "source": [
    "# PARTIE 1 : Stats d'un trajet choisi par l'utilisateur"
   ]
  },
  {
   "cell_type": "markdown",
   "metadata": {},
   "source": [
    "## A. Sélection d'un trajet\n",
    "\n",
    "**Documentation:**\n",
    "- Doc pandas: https://pandas.pydata.org/pandas-docs/stable/user_guide/  \n",
    "- Exemple supplémentaire StackOverflow: https://stackoverflow.com/questions/17071871/how-to-select-rows-from-a-dataframe-based-on-column-values"
   ]
  },
  {
   "cell_type": "markdown",
   "metadata": {},
   "source": [
    "### Saisie des villes de départ et d'arrivée"
   ]
  },
  {
   "cell_type": "code",
   "execution_count": 2,
   "metadata": {},
   "outputs": [],
   "source": [
    "# Get the trip origin and destination input\n",
    "def getTripEndpoints():\n",
    "    \n",
    "    destination_city = input(\"You want to go to : \")\n",
    "    origin_city = input(\"from : \")\n",
    "    \n",
    "    return getCityId(origin_city), getCityId(destination_city);"
   ]
  },
  {
   "cell_type": "markdown",
   "metadata": {},
   "source": [
    "### Récupération de l'id d'une ville"
   ]
  },
  {
   "cell_type": "code",
   "execution_count": 3,
   "metadata": {},
   "outputs": [],
   "source": [
    "# Get the id of a given city\n",
    "def getCityId(city):\n",
    "    \n",
    "    # The cities are in lowercase in the column we're searching\n",
    "    city = city.lower()\n",
    "    \n",
    "    # If the city isn't in the dataframe\n",
    "    if(cities_df.loc[cities_df['unique_name'].isin([city])].empty):\n",
    "        \n",
    "        # Not very clean exit\n",
    "        print('We couln\\'t find this city')\n",
    "        sys.exit(0)\n",
    "    \n",
    "    # Find the correct row in the cities dataframe\n",
    "    else:\n",
    "        \n",
    "        # Get the id\n",
    "        cityId = cities_df.loc[cities_df['unique_name'] == city, 'id'].item()\n",
    "    \n",
    "    return cityId;"
   ]
  },
  {
   "cell_type": "markdown",
   "metadata": {},
   "source": [
    "### Sélection de tous les tickets pour un trajet"
   ]
  },
  {
   "cell_type": "code",
   "execution_count": 4,
   "metadata": {},
   "outputs": [],
   "source": [
    "# Function returning a dataframe with all the trips between these cities\n",
    "def getTrips(tickets_df, originCity = 628, destinationCity = 453):\n",
    "    \n",
    "    # Selecting the trips between origin and destination\n",
    "    selected_trips_df = tickets_df.loc[(tickets_df['o_city'] == originCity) & (tickets_df['d_city'] == destinationCity)]\n",
    "    \n",
    "    # If there is no trip available between the chosen cities, end the program\n",
    "    if(selected_trips_df.empty):\n",
    "        print('No trip available for this location\\n')\n",
    "        sys.exit(0)\n",
    "\n",
    "    return selected_trips_df;"
   ]
  },
  {
   "cell_type": "markdown",
   "metadata": {},
   "source": [
    "## B. Prix des tickets"
   ]
  },
  {
   "cell_type": "code",
   "execution_count": 5,
   "metadata": {},
   "outputs": [],
   "source": [
    "# Getting the minimum and the maximum price of the selected trip and the mean of the prices\n",
    "\n",
    "def getPricesBounds(trips_df):\n",
    "    minPrice = (trips_df['price_in_cents'].min()) / 100\n",
    "    avgPrice = (trips_df['price_in_cents'].mean()) / 100\n",
    "    maxPrice = (trips_df['price_in_cents'].max()) / 100\n",
    "    \n",
    "    priceBounds = pd.Series([minPrice, avgPrice, maxPrice], index=list(['minimum', 'average', 'maximum']))\n",
    "    \n",
    "    return priceBounds;"
   ]
  },
  {
   "cell_type": "markdown",
   "metadata": {},
   "source": [
    "## C. Durées des trajets\n",
    "\n",
    "### Ajout d'une colonne 'durée du trajet'\n",
    "\n",
    "**Documentation:**\n",
    "- https://pandas.pydata.org/pandas-docs/stable/user_guide/timeseries.html\n",
    "- https://pandas.pydata.org/pandas-docs/stable/user_guide/timedeltas.html\n",
    "\n",
    "**Problème rencontré:**  \n",
    "- *SettingWithCopyWarning*\n",
    "\n",
    "    Solutions trouvées: \n",
    "    - https://stackoverflow.com/questions/20625582/how-to-deal-with-settingwithcopywarning-in-pandas\n",
    "    - https://stackoverflow.com/questions/36846060/how-to-replace-an-entire-column-on-pandas-dataframe"
   ]
  },
  {
   "cell_type": "code",
   "execution_count": 6,
   "metadata": {},
   "outputs": [],
   "source": [
    "# Adds a duration column and format the timestamps to datetime\n",
    "def addDuration(trips_df):\n",
    "    \n",
    "    # Changing departure and arrival to datetime\n",
    "    formatted_trips_df = trips_df.loc[:, ['departure_ts', 'arrival_ts']].apply(pd.to_datetime)\n",
    "    \n",
    "    # Adding all the other columns\n",
    "    formatted_trips_df = trips_df.assign(departure_ts = formatted_trips_df['departure_ts'], \n",
    "                                         arrival_ts = formatted_trips_df['arrival_ts'])\n",
    "    \n",
    "    \n",
    "    # Create a Serie containing the durations between departure and arrival\n",
    "    duration_s = formatted_trips_df.loc[:, 'arrival_ts'] - formatted_trips_df.loc[:, 'departure_ts']\n",
    "    duration_s.name = 'duration_tdelt'\n",
    "    \n",
    "    # Adding the durations to the dataframe\n",
    "    formatted_trips_df = pd.concat([formatted_trips_df, duration_s], axis = 1)\n",
    "    \n",
    "    return formatted_trips_df;"
   ]
  },
  {
   "cell_type": "markdown",
   "metadata": {},
   "source": [
    "### Calcul des durées min, max et moyennes\n",
    "\n",
    "**Documentation:**  \n",
    "- Convertir un timedelta en secondes: https://pandas.pydata.org/pandas-docs/stable/user_guide/timedeltas.html#conversions"
   ]
  },
  {
   "cell_type": "code",
   "execution_count": 7,
   "metadata": {},
   "outputs": [],
   "source": [
    "def getDurationBounds(trips_df):\n",
    "    \n",
    "    # Min and max duration\n",
    "    minDuration = min(trips_df.loc[:, 'duration_tdelt'])\n",
    "    maxDuration = max(trips_df.loc[:, 'duration_tdelt'])\n",
    "    \n",
    "    # Converting the durations in seconds\n",
    "    durationInSecs = trips_df.loc[:, 'duration_tdelt'].astype('timedelta64[s]')\n",
    "    \n",
    "    # Computing the mean and returning it in timedelta\n",
    "    avgDuration = durationInSecs.mean()\n",
    "    avgDuration = pd.to_timedelta(avgDuration, 'seconds')\n",
    "    \n",
    "    durationBounds_s = pd.Series([minDuration, avgDuration, maxDuration], \n",
    "                                 index=list(['minimum', 'average', 'maximum']))\n",
    "    \n",
    "    return durationBounds_s;"
   ]
  },
  {
   "cell_type": "markdown",
   "metadata": {},
   "source": [
    "## D. Affichage\n",
    "\n",
    "### Affichage d'un timestamp au format HH:mm   \n",
    "\n",
    "**Documentation:**  \n",
    "- Formater un timedelta: https://stackoverflow.com/questions/538666/format-timedelta-to-string\n",
    "\n",
    "**Problème rencontré:**  \n",
    "- Un trajet d'1 jour et 3 heures s'affichait 3h\n",
    "\n",
    "**Solution adoptée:**  \n",
    "- Ajouter 86400 secondes par jour"
   ]
  },
  {
   "cell_type": "code",
   "execution_count": 8,
   "metadata": {},
   "outputs": [],
   "source": [
    "# Display of a timedelta\n",
    "def timedeltaDisplay(timedelta):\n",
    "    \n",
    "    # Get the total # of seconds\n",
    "    timedeltaSeconds = timedelta.seconds + 86400 * timedelta.days\n",
    "    \n",
    "    # Translate it in hours and minutes\n",
    "    hours, remainder = divmod(timedeltaSeconds,3600)\n",
    "    minutes = remainder // 60\n",
    "    \n",
    "    # Build the string\n",
    "    display = '{}h{:02d}mn'.format(hours, minutes)\n",
    "    \n",
    "    return display;"
   ]
  },
  {
   "cell_type": "markdown",
   "metadata": {},
   "source": [
    "### Récupération du nom complet d'une ville"
   ]
  },
  {
   "cell_type": "code",
   "execution_count": 9,
   "metadata": {},
   "outputs": [],
   "source": [
    "# Get the city, its region and its country \n",
    "def getCityLocalName(city_id):\n",
    "    \n",
    "    # Search the city local name using id\n",
    "    cityLocalName = cities_df.loc[cities_df['id'] == city_id, 'local_name'].item()\n",
    "    \n",
    "    # Split the city, the region and the country    \n",
    "    cityLocation = pd.Series(cityLocalName.split(', '), index=list(['city', 'region', 'country']))\n",
    "    \n",
    "    return cityLocation;"
   ]
  },
  {
   "cell_type": "markdown",
   "metadata": {},
   "source": [
    "### Affichage des résultats\n",
    "\n",
    "**Documentation:**  \n",
    "- Affichage des durées moyennes: https://stackoverflow.com/questions/538666/format-timedelta-to-string"
   ]
  },
  {
   "cell_type": "code",
   "execution_count": 10,
   "metadata": {},
   "outputs": [],
   "source": [
    "# Display the stats of the trips available\n",
    "def displayTripStats(origin_city_id, destination_city_id, priceBounds, durationBounds):\n",
    "    \n",
    "    # Get the cities full names\n",
    "    origin = getCityLocalName(origin_city_id)\n",
    "    destination = getCityLocalName(destination_city_id)\n",
    "    \n",
    "    # Print trip endpoints\n",
    "    print(\"\\n\")\n",
    "    print(\"Trip from {} ({}) to {} ({}):\\n\"\n",
    "          .format(origin.city, origin.region, destination.city, destination.region))\n",
    "         \n",
    "    # Print prices available\n",
    "    print(\"Prices : {:.2f}€ >>> {:.2f}€. Average: {:.2f}€\"\n",
    "          .format(priceBounds.minimum, priceBounds.maximum, priceBounds.average))\n",
    "    \n",
    "    # Print trip durations\n",
    "    print(\"Duration : {} >>> {}. Average: {}\"\n",
    "          .format(\n",
    "              timedeltaDisplay(durationBounds.minimum), \n",
    "              timedeltaDisplay(durationBounds.maximum), \n",
    "              timedeltaDisplay(durationBounds.average)))\n",
    "    \n",
    "    return;"
   ]
  },
  {
   "cell_type": "markdown",
   "metadata": {},
   "source": [
    "# PARTIE 2 : Prix selon la distance et le moyen de transport\n",
    "\n",
    "## A. Calcul de la distance de chaque trajet\n",
    "\n",
    "### Ajout d'une colonne distance\n",
    "\n",
    "**Documentation:**\n",
    "\n",
    "- geopy: https://pypi.org/project/geopy/\n",
    "\n",
    "**Problèmes rencontrés:**\n",
    "- Calculer la distance à partir de plusieurs colonnes du dataframe\n",
    "- Utiliser les villes plutôt que les stations en cas de données manquantes\n",
    "- Associer les distances calculées pour chaque trajet sur l'ensemble des tickets\n",
    "\n",
    "**Solutions adoptées:**\n",
    "\n",
    "- Utiliser la fontion apply:\n",
    " - Doc de la fonction apply: https://pandas.pydata.org/pandas-docs/stable/reference/api/pandas.DataFrame.apply.html\n",
    " - Exemple StackOverflow: https://stackoverflow.com/questions/31414481/new-column-with-coordinates-using-geopy-pandas\n",
    "- Relire la doc pandas: https://pandas.pydata.org/pandas-docs/stable/user_guide/missing_data.html\n",
    "- Utiliser la fontion merge: https://pandas.pydata.org/pandas-docs/stable/reference/api/pandas.DataFrame.merge.html"
   ]
  },
  {
   "cell_type": "code",
   "execution_count": 29,
   "metadata": {},
   "outputs": [],
   "source": [
    "# Add a distance column for each ticket\n",
    "def addDistance(trips_df):\n",
    "\n",
    "    # Extracting only the geographic info from the tickets dataframe and keep a single copy of each trip\n",
    "    distances_df = trips_df.loc[:,['o_station', 'd_station', 'middle_stations', 'o_city', 'd_city']]\n",
    "    distances_df = distances_df.drop_duplicates()\n",
    "\n",
    "    # Computing the distance for each unique trip\n",
    "    distances_df['distance'] = distances_df.apply(lambda df: computeDistance(df['o_city'], \n",
    "                                                                             df['d_city'], \n",
    "                                                                             df['o_station'], \n",
    "                                                                             df['d_station'],\n",
    "                                                                             df['middle_stations']), axis=1)\n",
    "\n",
    "    # Associate to each ticket its distance\n",
    "    trips_df = pd.merge(trips_df, distances_df, on=['o_city',\n",
    "                                                    'd_city',\n",
    "                                                    'o_station', \n",
    "                                                    'd_station', \n",
    "                                                    'middle_stations'])\n",
    "\n",
    "    return trips_df;"
   ]
  },
  {
   "cell_type": "markdown",
   "metadata": {},
   "source": [
    "### Calculer la distance entre deux couples de coordonnées GPS\n",
    "\n",
    "*Lisibilité à améliorer  \n",
    "Pas optimisé*"
   ]
  },
  {
   "cell_type": "code",
   "execution_count": 30,
   "metadata": {},
   "outputs": [],
   "source": [
    "def computeDistance(originCity, destinationCity, originStation, destinationStation, middleStations):\n",
    "    \n",
    "    # If there is only origin and destination city\n",
    "    if(pd.isna(originStation) | pd.isna(destinationStation)):\n",
    "        \n",
    "        # Find the GPS coordinates from cities.csv\n",
    "        originCoords = getCityCoords(originCity)\n",
    "        destinationCoords = getCityCoords(destinationCity)\n",
    "        \n",
    "        # Use geodesic distance\n",
    "        distance = geodesic(originCoords, destinationCoords).km\n",
    "    \n",
    "    # If there is origin and destination stations\n",
    "    elif(pd.notna(originStation) & pd.notna(destinationStation)):\n",
    "        \n",
    "        # If there is middle stations\n",
    "        if(pd.notna(middleStations)):\n",
    "            \n",
    "            # Enter the middle stations in an array\n",
    "            middleStations = middleStations.strip('{}')\n",
    "            stationsTable = middleStations.split(',')\n",
    "                   \n",
    "        # Add the first and the last station\n",
    "        stationsTable.insert(0, originStation)\n",
    "        stationsTable.append(destinationStation)\n",
    "        \n",
    "        # Add the distance between each couple of stations\n",
    "        distance = 0\n",
    "        \n",
    "        for station in range(0, len(stationsTable), 2):    \n",
    "            distance = distance + getDistanceBetweenTwoStations(stationsTable[station], \n",
    "                                                                stationsTable[station+1])\n",
    "            \n",
    "        \n",
    "    # If there is none, exit the program\n",
    "    else:\n",
    "        print('An error occured')\n",
    "        sys.exit(0)\n",
    "    \n",
    "    return distance;"
   ]
  },
  {
   "cell_type": "markdown",
   "metadata": {},
   "source": [
    "### Calculer la distance entre deux stations"
   ]
  },
  {
   "cell_type": "code",
   "execution_count": 13,
   "metadata": {},
   "outputs": [],
   "source": [
    "def getDistanceBetweenTwoStations(firstStation, secondStation):\n",
    "    \n",
    "    # Get the coordinates of both stations\n",
    "    firstStationCoords = getStationCoords(int(firstStation))\n",
    "    secondStationCoords = getStationCoords(int(secondStation))\n",
    "    \n",
    "    # Compute their distance using geodesic\n",
    "    distance = geodesic(firstStationCoords, secondStationCoords).km\n",
    "    \n",
    "    return distance;"
   ]
  },
  {
   "cell_type": "markdown",
   "metadata": {},
   "source": [
    "### Récupérer les coordonnées GPS d'une station"
   ]
  },
  {
   "cell_type": "code",
   "execution_count": 14,
   "metadata": {},
   "outputs": [],
   "source": [
    "def getStationCoords(station_id):\n",
    "    \n",
    "    station_lat = stations_df.loc[stations_df['id'] == station_id, 'latitude'].item()\n",
    "    station_lon = stations_df.loc[stations_df['id'] == station_id, 'longitude'].item()\n",
    "    \n",
    "    return (station_lat, station_lon)"
   ]
  },
  {
   "cell_type": "markdown",
   "metadata": {},
   "source": [
    "### Récupérer les coordonnées GPS d'une ville"
   ]
  },
  {
   "cell_type": "code",
   "execution_count": 15,
   "metadata": {},
   "outputs": [],
   "source": [
    "def getCityCoords(city_id):\n",
    "    \n",
    "    city_lat = cities_df.loc[cities_df['id'] == city_id, 'latitude'].item()\n",
    "    city_lon = cities_df.loc[cities_df['id'] == city_id, 'longitude'].item()\n",
    "    \n",
    "    return (city_lat, city_lon)"
   ]
  },
  {
   "cell_type": "markdown",
   "metadata": {},
   "source": [
    "## B. Durées et prix moyens selon la distance et le moyen de transport\n",
    "\n",
    "**Problème rencontré:**\n",
    "\n",
    "Je ne sais pas lire, donc je perds du temps\n",
    "\n",
    "**Solution:**\n",
    "\n",
    "Relire\n",
    "\n",
    "\n",
    "### Séparation des trajets selon la tranche de distance"
   ]
  },
  {
   "cell_type": "code",
   "execution_count": 16,
   "metadata": {},
   "outputs": [],
   "source": [
    "# Returns 3 separated dataframes for train, bus and carpooling trip tickets\n",
    "def separateTripLength(trips_df):\n",
    "    \n",
    "    shortTrip = trips_df.loc[trips_df['distance'] <= 200]\n",
    "    mediumTrip = trips_df.loc[(trips_df['distance'] <= 800) & (trips_df['distance'] > 200)]\n",
    "    longTrip = trips_df.loc[(trips_df['distance'] <= 2000) & (trips_df['distance'] > 800)]\n",
    "    veryLongTrip = trips_df.loc[trips_df['distance'] > 2000]\n",
    "    \n",
    "    return shortTrip, mediumTrip, longTrip, veryLongTrip;"
   ]
  },
  {
   "cell_type": "markdown",
   "metadata": {},
   "source": [
    "### Récupérer les trajets utilisant le même moyen de transport"
   ]
  },
  {
   "cell_type": "code",
   "execution_count": 17,
   "metadata": {},
   "outputs": [],
   "source": [
    "def getByTransportType(trips_df, transportType):\n",
    "\n",
    "    # Get all the ids of providers matching the selected transport type\n",
    "    companyByTransportType = providers_df.loc[providers_df['transport_type'] == transportType, 'id']\n",
    "\n",
    "    # Select the trips from the selected providers\n",
    "    selectedTrips_df = trips_df.loc[trips_df['company'].isin(companyByTransportType)]\n",
    "    \n",
    "    return selectedTrips_df;"
   ]
  },
  {
   "cell_type": "markdown",
   "metadata": {},
   "source": [
    "### Découper un dataframe selon les moyens de transports"
   ]
  },
  {
   "cell_type": "code",
   "execution_count": 31,
   "metadata": {},
   "outputs": [],
   "source": [
    "# Returns 3 separated dataframes for train, bus and carpooling trip tickets\n",
    "def separateTransportTypes(trips_df):\n",
    "    \n",
    "    trainTrips_df = getByTransportType(trips_df, 'train')\n",
    "    busTrips_df = getByTransportType(trips_df, 'bus')\n",
    "    carpoolingTrips_df = getByTransportType(trips_df, 'carpooling')\n",
    "    \n",
    "    separatedTrips_df = {'train': trainTrips_df, \n",
    "                         'bus': busTrips_df, \n",
    "                         'carpooling': carpoolingTrips_df}\n",
    "    \n",
    "    return separatedTrips_df;"
   ]
  },
  {
   "cell_type": "markdown",
   "metadata": {},
   "source": [
    "### Calculer le prix et la durée moyenne d'un dataframe de tickets"
   ]
  },
  {
   "cell_type": "code",
   "execution_count": 19,
   "metadata": {},
   "outputs": [],
   "source": [
    "def getPricesAndDurations(trips_df):\n",
    "    \n",
    "    # Very bad handling of empty datasets\n",
    "    if(trips_df['train'].empty | trips_df['bus'].empty | trips_df['carpooling'].empty):\n",
    "        return \"No information available\";\n",
    "    \n",
    "    else:\n",
    "\n",
    "        # Computes the average prices\n",
    "        avgTrainPrice = trips_df['train'].price_in_cents.mean() / 100\n",
    "        avgBusPrice = trips_df['bus'].price_in_cents.mean() / 100\n",
    "        avgCarpoolingPrice = trips_df['carpooling'].price_in_cents.mean() / 100\n",
    "\n",
    "        # Computes the average durations\n",
    "        avgTrainDuration = trips_df['train'].loc[:, 'duration_tdelt'].mean()\n",
    "        avgBusDuration = trips_df['bus'].loc[:, 'duration_tdelt'].mean()\n",
    "        avgCarpoolingDuration = trips_df['carpooling'].loc[:, 'duration_tdelt'].mean()\n",
    "\n",
    "        # Gather the average for each way of transportation\n",
    "        pricesAndDurations = pd.DataFrame(np.array([[timedeltaDisplay(avgTrainDuration), \n",
    "                                                     '{:.2f}€'.format(avgTrainPrice)],\n",
    "                                                    [timedeltaDisplay(avgBusDuration), \n",
    "                                                     '{:.2f}€'.format(avgBusPrice)],\n",
    "                                                    [timedeltaDisplay(avgCarpoolingDuration), \n",
    "                                                     '{:.2f}€'.format(avgCarpoolingPrice)]]), \n",
    "                                          columns=['Average duration', 'Average price'], \n",
    "                                          index=['Train', 'Bus', 'Carpooling'])\n",
    "\n",
    "        return pricesAndDurations;"
   ]
  },
  {
   "cell_type": "markdown",
   "metadata": {},
   "source": [
    "### Comparer les prix selon le moyen de transport\n",
    "\n",
    "Le cas de dataframes vides est mal géré (très mal)"
   ]
  },
  {
   "cell_type": "code",
   "execution_count": 20,
   "metadata": {},
   "outputs": [],
   "source": [
    "# Returns the average price for each mean of transport\n",
    "def comparePrices(shortTrip, mediumTrip, longTrip, veryLongTrip):\n",
    "    \n",
    "    # Separate the trips per transport type\n",
    "    shortTripPerTransportation = separateTransportTypes(shortTrip)\n",
    "    mediumTripPerTransportation = separateTransportTypes(mediumTrip)\n",
    "    longTripPerTransportation = separateTransportTypes(longTrip)\n",
    "    veryLongTripPerTransportation = separateTransportTypes(veryLongTrip)\n",
    "    \n",
    "    # Get the average prices and durations for each transport type\n",
    "    shortTripInfo = getPricesAndDurations(shortTripPerTransportation)\n",
    "    mediumTripInfo = getPricesAndDurations(mediumTripPerTransportation)\n",
    "    longTripInfo = getPricesAndDurations(longTripPerTransportation)\n",
    "    veryLongTripInfo = getPricesAndDurations(veryLongTripPerTransportation)\n",
    "    \n",
    "    \n",
    "    # Printing the results\n",
    "    print('Trips of < 200km:\\n')\n",
    "    print(shortTripInfo.to_markdown())\n",
    "    print('\\nTrips between 200km and 800km:\\n')\n",
    "    print(mediumTripInfo.to_markdown())\n",
    "    print('\\nTrips between 800km and 2000km:\\n')\n",
    "    print(longTripInfo.to_markdown())\n",
    "    print('\\nTrips of > 2000km:\\n')\n",
    "    print(veryLongTripInfo)\n",
    "    \n",
    "    return;"
   ]
  },
  {
   "cell_type": "markdown",
   "metadata": {},
   "source": [
    "# Main\n",
    "\n",
    "\n",
    "### Import des datasets"
   ]
  },
  {
   "cell_type": "code",
   "execution_count": 21,
   "metadata": {},
   "outputs": [],
   "source": [
    "import pandas as pd\n",
    "import datetime\n",
    "import numpy as np\n",
    "from geopy.distance import geodesic\n",
    "\n",
    "# Importing CSVs\n",
    "tickets_df = pd.read_csv('./csv/ticket_data.csv', comment='#')\n",
    "cities_df = pd.read_csv('./csv/cities.csv', comment='#')\n",
    "providers_df = pd.read_csv('./csv/providers.csv', comment='#')\n",
    "stations_df = pd.read_csv('./csv/stations.csv', comment='#')"
   ]
  },
  {
   "cell_type": "markdown",
   "metadata": {},
   "source": [
    "### Calcul de la durée et de la distance"
   ]
  },
  {
   "cell_type": "code",
   "execution_count": 22,
   "metadata": {
    "scrolled": true
   },
   "outputs": [],
   "source": [
    "# Computes a duration and a distance column for each trip\n",
    "tickets_df = addDuration(tickets_df)\n",
    "tickets_df = addDistance(tickets_df)"
   ]
  },
  {
   "cell_type": "markdown",
   "metadata": {},
   "source": [
    "### Prix et durée moyenne par trajet"
   ]
  },
  {
   "cell_type": "code",
   "execution_count": 32,
   "metadata": {},
   "outputs": [
    {
     "name": "stdout",
     "output_type": "stream",
     "text": [
      "You want to go to : lille\n",
      "from : paris\n",
      "\n",
      "\n",
      "Trip from Paris (Île-de-France) to Lille (Hauts-de-France):\n",
      "\n",
      "Prices : 10.00€ >>> 134.50€. Average: 20.31€\n",
      "Duration : 1h08mn >>> 37h20mn. Average: 3h38mn\n"
     ]
    }
   ],
   "source": [
    "# Ask for the destination and the origin of the trip \n",
    "originCityId, destinationCityId = getTripEndpoints()\n",
    "\n",
    "# Select the trips available between the given cities\n",
    "myTrip_df = getTrips(tickets_df, originCityId, destinationCityId)\n",
    "\n",
    "# Get price overview\n",
    "priceBounds_s = getPricesBounds(myTrip_df)\n",
    "\n",
    "# Get duration overview\n",
    "durationBounds_s = getDurationBounds(myTrip_df)\n",
    "\n",
    "\n",
    "# Display the results\n",
    "displayTripStats(originCityId, destinationCityId, priceBounds_s, durationBounds_s)"
   ]
  },
  {
   "cell_type": "markdown",
   "metadata": {},
   "source": [
    "### Prix et durée moyenne par distance"
   ]
  },
  {
   "cell_type": "code",
   "execution_count": null,
   "metadata": {},
   "outputs": [],
   "source": [
    "# Prices and durations overview\n",
    "\n",
    "# Separate the trips by length\n",
    "shortTrips_df, mediumTrips_df, longTrips_df, veryLongTrips_df = separateTripLength(tickets_df)\n",
    "\n",
    "# Compare the transport types for each trip length\n",
    "comparePrices(shortTrips_df, mediumTrips_df, longTrips_df, veryLongTrips_df)"
   ]
  }
 ],
 "metadata": {
  "kernelspec": {
   "display_name": "Python 3",
   "language": "python",
   "name": "python3"
  },
  "language_info": {
   "codemirror_mode": {
    "name": "ipython",
    "version": 3
   },
   "file_extension": ".py",
   "mimetype": "text/x-python",
   "name": "python",
   "nbconvert_exporter": "python",
   "pygments_lexer": "ipython3",
   "version": "3.7.4"
  }
 },
 "nbformat": 4,
 "nbformat_minor": 4
}
