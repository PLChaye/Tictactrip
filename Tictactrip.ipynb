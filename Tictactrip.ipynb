{
 "cells": [
  {
   "cell_type": "markdown",
   "metadata": {},
   "source": [
    "# Exercice de data crunching\n",
    " "
   ]
  },
  {
   "cell_type": "markdown",
   "metadata": {},
   "source": [
    "## Installation des librairies nécessaires\n",
    "\n",
    "- pandas\n",
    "- datetime\n",
    "\n",
    "\n",
    "**Documentation:**\n",
    "- Tutoriel utilisé: https://jakevdp.github.io/blog/2017/12/05/installing-python-packages-from-jupyter/"
   ]
  },
  {
   "cell_type": "code",
   "execution_count": 2,
   "metadata": {},
   "outputs": [
    {
     "name": "stdout",
     "output_type": "stream",
     "text": [
      "Requirement already satisfied: pandas in c:\\users\\admin\\appdata\\local\\programs\\python\\python37\\lib\\site-packages (1.0.3)\n",
      "Requirement already satisfied: python-dateutil>=2.6.1 in c:\\users\\admin\\appdata\\local\\programs\\python\\python37\\lib\\site-packages (from pandas) (2.8.1)\n",
      "Requirement already satisfied: pytz>=2017.2 in c:\\users\\admin\\appdata\\local\\programs\\python\\python37\\lib\\site-packages (from pandas) (2019.3)\n",
      "Requirement already satisfied: numpy>=1.13.3 in c:\\users\\admin\\appdata\\local\\programs\\python\\python37\\lib\\site-packages (from pandas) (1.18.4)\n",
      "Requirement already satisfied: six>=1.5 in c:\\users\\admin\\appdata\\local\\programs\\python\\python37\\lib\\site-packages (from python-dateutil>=2.6.1->pandas) (1.13.0)\n",
      "Requirement already satisfied: datetime in c:\\users\\admin\\appdata\\local\\programs\\python\\python37\\lib\\site-packages (4.3)\n",
      "Requirement already satisfied: zope.interface in c:\\users\\admin\\appdata\\local\\programs\\python\\python37\\lib\\site-packages (from datetime) (5.1.0)\n",
      "Requirement already satisfied: pytz in c:\\users\\admin\\appdata\\local\\programs\\python\\python37\\lib\\site-packages (from datetime) (2019.3)\n",
      "Requirement already satisfied: setuptools in c:\\users\\admin\\appdata\\local\\programs\\python\\python37\\lib\\site-packages (from zope.interface->datetime) (40.8.0)\n",
      "Requirement already satisfied: numpy in c:\\users\\admin\\appdata\\local\\programs\\python\\python37\\lib\\site-packages (1.18.4)\n"
     ]
    }
   ],
   "source": [
    "import sys\n",
    "\n",
    "# Installing pandas\n",
    "!{sys.executable} -m pip install pandas\n",
    "\n",
    "# Installing datetime\n",
    "!{sys.executable} -m pip install datetime\n",
    "\n",
    "# Installing datetime\n",
    "!{sys.executable} -m pip install numpy"
   ]
  },
  {
   "cell_type": "markdown",
   "metadata": {},
   "source": [
    "## Importation des datasets\n",
    "\n"
   ]
  },
  {
   "cell_type": "code",
   "execution_count": 3,
   "metadata": {},
   "outputs": [],
   "source": [
    "import pandas as pd\n",
    "import datetime\n",
    "import numpy as np\n",
    "\n",
    "# Importing CSVs\n",
    "tickets_df = pd.read_csv('./csv/ticket_data.csv', comment='#')\n",
    "cities_df = pd.read_csv('./csv/cities.csv', comment='#')\n",
    "providers_df = pd.read_csv('./csv/providers.csv', comment='#')\n",
    "stations_df = pd.read_csv('./csv/stations.csv', comment='#')"
   ]
  },
  {
   "cell_type": "markdown",
   "metadata": {},
   "source": [
    "## Sélection d'un voyage dans le dataset\n",
    "\n",
    "**Documentation:**\n",
    "- Doc pandas: https://pandas.pydata.org/pandas-docs/stable/user_guide/  \n",
    "- Exemple supplémentaire StackOverflow: https://stackoverflow.com/questions/17071871/how-to-select-rows-from-a-dataframe-based-on-column-values"
   ]
  },
  {
   "cell_type": "code",
   "execution_count": 4,
   "metadata": {},
   "outputs": [],
   "source": [
    "# Function returning a dataframe with all the trips between these cities\n",
    "def getTrips(tickets_df, origin_city = 628, destination_city = 453):\n",
    "    \n",
    "    # Selecting the trips between origin and destination\n",
    "    selected_trips_df = tickets_df.loc[(tickets_df['o_city'] == origin_city) & (tickets_df['d_city'] == destination_city)]\n",
    "    \n",
    "    return selected_trips_df;"
   ]
  },
  {
   "cell_type": "markdown",
   "metadata": {},
   "source": [
    "## Calcul des prix min, max et moyens"
   ]
  },
  {
   "cell_type": "code",
   "execution_count": 5,
   "metadata": {},
   "outputs": [],
   "source": [
    "# Getting the minimum and the maximum price of the selected trip and the mean of the prices\n",
    "\n",
    "def getPricesBounds(trips_df):\n",
    "    minPrice = (trips_df['price_in_cents'].min()) / 100\n",
    "    avgPrice = (trips_df['price_in_cents'].mean()) / 100\n",
    "    maxPrice = (trips_df['price_in_cents'].max()) / 100\n",
    "    \n",
    "    return minPrice, avgPrice, maxPrice;"
   ]
  },
  {
   "cell_type": "markdown",
   "metadata": {},
   "source": [
    "## Conversion des champs de date et calcul de la durée des trajets\n",
    "\n",
    "**Documentation:**\n",
    "- https://pandas.pydata.org/pandas-docs/stable/user_guide/timeseries.html\n",
    "- https://pandas.pydata.org/pandas-docs/stable/user_guide/timedeltas.html\n",
    "\n",
    "**Problème rencontré:**  \n",
    "- *SettingWithCopyWarning*\n",
    "\n",
    "    Solutions trouvées: \n",
    "    - https://stackoverflow.com/questions/20625582/how-to-deal-with-settingwithcopywarning-in-pandas\n",
    "    - https://stackoverflow.com/questions/36846060/how-to-replace-an-entire-column-on-pandas-dataframe"
   ]
  },
  {
   "cell_type": "code",
   "execution_count": 6,
   "metadata": {},
   "outputs": [],
   "source": [
    "# Adds a duration column and format the timestamps to datetime\n",
    "def addDuration(trips_df):\n",
    "    \n",
    "    # Changing departure and arrival to datetime\n",
    "    formatted_trips_df = trips_df.loc[:, ['departure_ts', 'arrival_ts']].apply(pd.to_datetime)\n",
    "    \n",
    "    # Adding all the other columns\n",
    "    formatted_trips_df = trips_df.assign(departure_ts = formatted_trips_df['departure_ts'], arrival_ts = formatted_trips_df['arrival_ts'])\n",
    "    \n",
    "    \n",
    "    # Create a Serie containing the durations between departure and arrival\n",
    "    duration_s = formatted_trips_df.loc[:, 'arrival_ts'] - formatted_trips_df.loc[:, 'departure_ts']\n",
    "    duration_s.name = 'duration_tdelt'\n",
    "    \n",
    "    # Adding the durations to the dataframe\n",
    "    formatted_trips_df = pd.concat([formatted_trips_df, duration_s], axis = 1)\n",
    "    \n",
    "    return formatted_trips_df;"
   ]
  },
  {
   "cell_type": "markdown",
   "metadata": {},
   "source": [
    "## Calcul des durées min, max et moyennes\n",
    "\n",
    "**Documentation:**  \n",
    "- Convertir un timedelta en secondes: https://pandas.pydata.org/pandas-docs/stable/user_guide/timedeltas.html#conversions"
   ]
  },
  {
   "cell_type": "code",
   "execution_count": 10,
   "metadata": {},
   "outputs": [],
   "source": [
    "def getDurationBounds(trips_df):\n",
    "    \n",
    "    # Min and max duration\n",
    "    minDuration = min(trips_df.loc[:, 'duration_tdelt'])\n",
    "    maxDuration = max(trips_df.loc[:, 'duration_tdelt'])\n",
    "    \n",
    "    # Converting the durations in seconds\n",
    "    durationInSecs = trips_df.loc[:, 'duration_tdelt'].astype('timedelta64[s]')\n",
    "    \n",
    "    # Computing the mean and returning it in timedelta\n",
    "    avgDuration = durationInSecs.mean()\n",
    "    avgDuration = pd.to_timedelta(avgDuration, 'seconds')\n",
    "    \n",
    "    return minDuration, maxDuration, avgDuration;"
   ]
  },
  {
   "cell_type": "markdown",
   "metadata": {},
   "source": [
    "## Affichage d'un timestamp au format HH:mm:  \n",
    "\n",
    "**Documentation:**  \n",
    "- Formater un timedelta: https://stackoverflow.com/questions/538666/format-timedelta-to-string"
   ]
  },
  {
   "cell_type": "code",
   "execution_count": 22,
   "metadata": {},
   "outputs": [],
   "source": [
    "# Display of a timedelta\n",
    "def timedeltaDisplay(timedelta):\n",
    "    \n",
    "    # Get the total # of seconds\n",
    "    timedeltaSeconds = timedelta.seconds\n",
    "    \n",
    "    # Translate it in hours and minutes\n",
    "    hours, remainder = divmod(timedeltaSeconds,3600)\n",
    "    minutes = remainder // 60\n",
    "    \n",
    "    # Build the string\n",
    "    display = '{}h{}mn'.format(hours, minutes)\n",
    "    return display;"
   ]
  },
  {
   "cell_type": "markdown",
   "metadata": {},
   "source": [
    "## Récupération de l'id d'une ville"
   ]
  },
  {
   "cell_type": "code",
   "execution_count": 173,
   "metadata": {
    "scrolled": true
   },
   "outputs": [],
   "source": [
    "# Get the id of a given city\n",
    "def getCityId(city):\n",
    "    \n",
    "    # The cities are in lowercase in the column we're searching\n",
    "    city = city.lower()\n",
    "    \n",
    "    # If the city isn't in the dataframe\n",
    "    if(cities_df.loc[cities_df['unique_name'].isin([city])].empty):\n",
    "        \n",
    "        # Not very clean exit\n",
    "        print('We couln\\'t find this city')\n",
    "        sys.exit(0)\n",
    "    \n",
    "    # Find the correct row in the cities dataframe\n",
    "    else:\n",
    "        \n",
    "        # Get the id\n",
    "        city_id = cities_df.loc[cities_df['unique_name'] == city, 'id'].item()\n",
    "    \n",
    "    return city_id;"
   ]
  },
  {
   "cell_type": "markdown",
   "metadata": {},
   "source": [
    "## Récupération du nom complet d'une ville"
   ]
  },
  {
   "cell_type": "code",
   "execution_count": 103,
   "metadata": {},
   "outputs": [],
   "source": [
    "# Get the city, its region and its country \n",
    "def getCityLocalName(city_id):\n",
    "    \n",
    "    cityLocalName = cities_df.loc[cities_df['id'] == city_id, 'local_name'].item()\n",
    "    \n",
    "    return cityLocalName;"
   ]
  },
  {
   "cell_type": "markdown",
   "metadata": {},
   "source": [
    "## Sélection du trajet"
   ]
  },
  {
   "cell_type": "code",
   "execution_count": 80,
   "metadata": {},
   "outputs": [],
   "source": [
    "# Get the trip origin and destination input\n",
    "def getTripEndpoints():\n",
    "    \n",
    "    destination_city = input(\"You want to go to : \")\n",
    "    origin_city = input(\"from : \")\n",
    "    \n",
    "    return getCityId(origin_city), getCityId(destination_city);"
   ]
  },
  {
   "cell_type": "markdown",
   "metadata": {},
   "source": [
    "## Main\n",
    "\n",
    "**Documentation:**  \n",
    "- Affichage des durées moyennes: https://stackoverflow.com/questions/538666/format-timedelta-to-string"
   ]
  },
  {
   "cell_type": "code",
   "execution_count": 178,
   "metadata": {},
   "outputs": [
    {
     "name": "stdout",
     "output_type": "stream",
     "text": [
      "You want to go to : lisboa\n",
      "from : paris\n",
      "For the trip from Paris, Île-de-France, France to Lisboa, Área Metropolitana de Lisboa, Portugal, the prices are going from 71.90€ to 134.50€ and the average price is 88.03€\n",
      "The trip from town A to town B, last between 18h20mn and 8h10mn and the average duration is 15h13mn\n"
     ]
    }
   ],
   "source": [
    "# Retrieve the destination and the origin\n",
    "origin_city_id, destination_city_id = getTripEndpoints()\n",
    "\n",
    "# Select the trips available between the given cities\n",
    "myTrip = getTrips(tickets_df, origin_city_id, destination_city_id)\n",
    "\n",
    "# Get price overview\n",
    "minPrice, avgPrice, maxPrice = getPricesBounds(myTrip)\n",
    "print(\"For the trip from {} to {}, the prices are going from {:.2f}€ to {:.2f}€ and the average price is {:.2f}€\".format(getCityLocalName(origin_city_id), getCityLocalName(destination_city_id), minPrice, maxPrice, avgPrice))\n",
    "\n",
    "# Add a duration column for each trip\n",
    "myTrip = addDuration(myTrip)\n",
    "\n",
    "# Get duration overview\n",
    "minDuration, maxDuration, avgDuration = getDurationBounds(myTrip)\n",
    "print(\"The trip from town A to town B, last between {} and {} and the average duration is {}\".format(timedeltaDisplay(minDuration), timedeltaDisplay(maxDuration), timedeltaDisplay(avgDuration)))"
   ]
  },
  {
   "cell_type": "code",
   "execution_count": 160,
   "metadata": {},
   "outputs": [],
   "source": []
  },
  {
   "cell_type": "code",
   "execution_count": null,
   "metadata": {},
   "outputs": [],
   "source": []
  },
  {
   "cell_type": "code",
   "execution_count": null,
   "metadata": {},
   "outputs": [],
   "source": []
  }
 ],
 "metadata": {
  "kernelspec": {
   "display_name": "Python 3",
   "language": "python",
   "name": "python3"
  },
  "language_info": {
   "codemirror_mode": {
    "name": "ipython",
    "version": 3
   },
   "file_extension": ".py",
   "mimetype": "text/x-python",
   "name": "python",
   "nbconvert_exporter": "python",
   "pygments_lexer": "ipython3",
   "version": "3.7.4"
  }
 },
 "nbformat": 4,
 "nbformat_minor": 4
}
